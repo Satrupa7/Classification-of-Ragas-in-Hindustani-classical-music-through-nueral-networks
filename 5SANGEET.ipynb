{
 "cells": [
  {
   "cell_type": "code",
   "execution_count": 2,
   "id": "4949be48",
   "metadata": {},
   "outputs": [],
   "source": [
    "import librosa\n",
    "import librosa.display\n",
    "import IPython.display as ipd\n",
    "import matplotlib.pyplot as plt\n",
    "import numpy as np"
   ]
  },
  {
   "cell_type": "code",
   "execution_count": 3,
   "id": "36ba1e3a",
   "metadata": {},
   "outputs": [],
   "source": [
    "def plot(mfccs):\n",
    "   \n",
    "    plt.figure(figsize=(5, 2))\n",
    "    librosa.display.specshow(mfccs, \n",
    "                             x_axis=\"time\", \n",
    "                             sr=sr)\n",
    "    plt.colorbar(format=\"%+2.f\")\n",
    "    plt.show()\n",
    "    return mfccs"
   ]
  },
  {
   "cell_type": "code",
   "execution_count": 4,
   "id": "21a9d2bc",
   "metadata": {},
   "outputs": [],
   "source": [
    "def mfcc_a(audio_file):\n",
    "    signal, sr = librosa.load(audio_file)\n",
    "    mfccs = librosa.feature.mfcc(y=signal, n_mfcc=14, sr=sr)\n",
    "    mfccs_scaled_features = np.mean(mfccs.T,axis=0)\n",
    "    return mfccs_scaled_features, signal\n"
   ]
  },
  {
   "cell_type": "code",
   "execution_count": null,
   "id": "15cb2fae",
   "metadata": {},
   "outputs": [],
   "source": []
  },
  {
   "cell_type": "code",
   "execution_count": 5,
   "id": "cb439322",
   "metadata": {
    "scrolled": true
   },
   "outputs": [
    {
     "data": {
      "text/plain": [
       "\"\\ndirectory = 'D:\\\\Priya Mishra\\\\my_projects\\\\Wav files'\\nlm=[]\\nfor filename in os.listdir(directory):\\n    f = os.path.join(directory, filename)\\n    if os.path.isfile(f):\\n        m=mfcc_a(f)\\n        lm.append(m)\""
      ]
     },
     "execution_count": 5,
     "metadata": {},
     "output_type": "execute_result"
    }
   ],
   "source": [
    "import os\n",
    "'''\n",
    "directory = 'D:\\\\Priya Mishra\\\\my_projects\\\\Wav files'\n",
    "lm=[]\n",
    "for filename in os.listdir(directory):\n",
    "    f = os.path.join(directory, filename)\n",
    "    if os.path.isfile(f):\n",
    "        m=mfcc_a(f)\n",
    "        lm.append(m)'''"
   ]
  },
  {
   "cell_type": "code",
   "execution_count": 7,
   "id": "323bd72a",
   "metadata": {},
   "outputs": [],
   "source": [
    "directory = 'D:\\\\Priya Mishra\\\\my_projects\\\\Wav files'\n",
    "l=[]\n",
    "for filename in os.listdir(directory):\n",
    "    f = os.path.join(directory, filename)\n",
    "    if os.path.isfile(f):\n",
    "        l.append(f)\n",
    "        "
   ]
  },
  {
   "cell_type": "code",
   "execution_count": 9,
   "id": "523940f3",
   "metadata": {
    "scrolled": true
   },
   "outputs": [],
   "source": [
    "s1=l[0:5]\n",
    "s12=l[5:10]\n"
   ]
  },
  {
   "cell_type": "code",
   "execution_count": null,
   "id": "8cd90008",
   "metadata": {},
   "outputs": [],
   "source": []
  },
  {
   "cell_type": "code",
   "execution_count": 10,
   "id": "6123c961",
   "metadata": {
    "scrolled": true
   },
   "outputs": [
    {
     "name": "stdout",
     "output_type": "stream",
     "text": [
      "1\n",
      "2\n"
     ]
    }
   ],
   "source": [
    "ml=[]\n",
    "sig=[]\n",
    "d1=[]\n",
    "ps=[]\n",
    "for i in s1:\n",
    "    h,aud=mfcc_a(i)\n",
    "    ml.append([h])\n",
    "    sig.append([aud])\n",
    "    d1.append(h)\n",
    "    ps.append(aud)\n",
    "    print(len(ml))"
   ]
  },
  {
   "cell_type": "code",
   "execution_count": 8,
   "id": "9d4ad660",
   "metadata": {},
   "outputs": [],
   "source": [
    "\"\"\"i=\"D:\\Priya Mishra\\my_projects\\Wav files\\Ajoy Chakrabarty - Raag Abhogi.wav\"\n",
    "i=\"D:\\Priya Mishra\\my_projects\\Wav files\\Ajoy Chakrabarty - Malkauns.wav\"\n",
    "h,aud=mfcc_a(i)  \n",
    "h.shape\n",
    "\n",
    "aud.shape\n",
    "len(sig)\n",
    "\n",
    "\"\"\""
   ]
  },
  {
   "cell_type": "code",
   "execution_count": 18,
   "id": "49cd21a7",
   "metadata": {},
   "outputs": [
    {
     "data": {
      "text/plain": [
       "[[array([-130.44264  ,  124.75439  ,  -25.909184 ,   17.528477 ,\n",
       "           -6.0792623,    8.366293 ,  -14.07918  ,   -8.832988 ,\n",
       "          -21.029907 ,   -6.610254 ,   -7.63176  ,   -8.419785 ,\n",
       "           -7.9431334,   -5.044788 ], dtype=float32)],\n",
       " [array([-123.7456   ,  122.20147  ,  -27.748375 ,   16.356695 ,\n",
       "           -9.18547  ,    6.205241 ,  -14.720456 ,   -9.045426 ,\n",
       "          -21.243801 ,   -6.2939916,   -8.194044 ,   -8.296159 ,\n",
       "           -8.411134 ,   -7.030266 ], dtype=float32)]]"
      ]
     },
     "execution_count": 18,
     "metadata": {},
     "output_type": "execute_result"
    }
   ],
   "source": [
    "ml\n"
   ]
  },
  {
   "cell_type": "code",
   "execution_count": 20,
   "id": "f10f4339",
   "metadata": {},
   "outputs": [
    {
     "data": {
      "text/plain": [
       "2"
      ]
     },
     "execution_count": 20,
     "metadata": {},
     "output_type": "execute_result"
    }
   ],
   "source": [
    "len(ml)\n"
   ]
  },
  {
   "cell_type": "code",
   "execution_count": 21,
   "id": "85b95fb7",
   "metadata": {},
   "outputs": [],
   "source": [
    "import pandas as pd"
   ]
  },
  {
   "cell_type": "code",
   "execution_count": 33,
   "id": "d193244e",
   "metadata": {},
   "outputs": [
    {
     "data": {
      "text/plain": [
       "[[array([-130.44264  ,  124.75439  ,  -25.909184 ,   17.528477 ,\n",
       "           -6.0792623,    8.366293 ,  -14.07918  ,   -8.832988 ,\n",
       "          -21.029907 ,   -6.610254 ,   -7.63176  ,   -8.419785 ,\n",
       "           -7.9431334,   -5.044788 ], dtype=float32)],\n",
       " [array([-123.7456   ,  122.20147  ,  -27.748375 ,   16.356695 ,\n",
       "           -9.18547  ,    6.205241 ,  -14.720456 ,   -9.045426 ,\n",
       "          -21.243801 ,   -6.2939916,   -8.194044 ,   -8.296159 ,\n",
       "           -8.411134 ,   -7.030266 ], dtype=float32)]]"
      ]
     },
     "execution_count": 33,
     "metadata": {},
     "output_type": "execute_result"
    }
   ],
   "source": [
    "ml"
   ]
  },
  {
   "cell_type": "code",
   "execution_count": 41,
   "id": "97e60136",
   "metadata": {
    "scrolled": true
   },
   "outputs": [],
   "source": [
    "mfcc_all=pd.DataFrame(ml,columns=[\"feature\"])"
   ]
  },
  {
   "cell_type": "code",
   "execution_count": 26,
   "id": "76ad676c",
   "metadata": {},
   "outputs": [],
   "source": [
    "target=[\"Ahir Bhairov\",\"Biaragi\"]"
   ]
  },
  {
   "cell_type": "code",
   "execution_count": 28,
   "id": "130d5e0d",
   "metadata": {},
   "outputs": [],
   "source": [
    "mfcc_all=pd.DataFrame(target)"
   ]
  },
  {
   "cell_type": "code",
   "execution_count": 42,
   "id": "2be3f6bc",
   "metadata": {},
   "outputs": [
    {
     "data": {
      "text/html": [
       "<div>\n",
       "<style scoped>\n",
       "    .dataframe tbody tr th:only-of-type {\n",
       "        vertical-align: middle;\n",
       "    }\n",
       "\n",
       "    .dataframe tbody tr th {\n",
       "        vertical-align: top;\n",
       "    }\n",
       "\n",
       "    .dataframe thead th {\n",
       "        text-align: right;\n",
       "    }\n",
       "</style>\n",
       "<table border=\"1\" class=\"dataframe\">\n",
       "  <thead>\n",
       "    <tr style=\"text-align: right;\">\n",
       "      <th></th>\n",
       "      <th>feature</th>\n",
       "    </tr>\n",
       "  </thead>\n",
       "  <tbody>\n",
       "    <tr>\n",
       "      <th>0</th>\n",
       "      <td>[-130.44264, 124.75439, -25.909184, 17.528477,...</td>\n",
       "    </tr>\n",
       "    <tr>\n",
       "      <th>1</th>\n",
       "      <td>[-123.7456, 122.20147, -27.748375, 16.356695, ...</td>\n",
       "    </tr>\n",
       "  </tbody>\n",
       "</table>\n",
       "</div>"
      ],
      "text/plain": [
       "                                             feature\n",
       "0  [-130.44264, 124.75439, -25.909184, 17.528477,...\n",
       "1  [-123.7456, 122.20147, -27.748375, 16.356695, ..."
      ]
     },
     "execution_count": 42,
     "metadata": {},
     "output_type": "execute_result"
    }
   ],
   "source": [
    "mfcc_all"
   ]
  },
  {
   "cell_type": "code",
   "execution_count": 45,
   "id": "95bcf5e2",
   "metadata": {},
   "outputs": [],
   "source": [
    "cls=pd.DataFrame(target,columns=[\"Raag\"])"
   ]
  },
  {
   "cell_type": "code",
   "execution_count": 40,
   "id": "8293bd40",
   "metadata": {},
   "outputs": [
    {
     "data": {
      "text/html": [
       "<div>\n",
       "<style scoped>\n",
       "    .dataframe tbody tr th:only-of-type {\n",
       "        vertical-align: middle;\n",
       "    }\n",
       "\n",
       "    .dataframe tbody tr th {\n",
       "        vertical-align: top;\n",
       "    }\n",
       "\n",
       "    .dataframe thead th {\n",
       "        text-align: right;\n",
       "    }\n",
       "</style>\n",
       "<table border=\"1\" class=\"dataframe\">\n",
       "  <thead>\n",
       "    <tr style=\"text-align: right;\">\n",
       "      <th></th>\n",
       "      <th>feature</th>\n",
       "      <th>target</th>\n",
       "    </tr>\n",
       "  </thead>\n",
       "  <tbody>\n",
       "    <tr>\n",
       "      <th>0</th>\n",
       "      <td>[-130.44264, 124.75439, -25.909184, 17.528477,...</td>\n",
       "      <td>Ahir Bhairov</td>\n",
       "    </tr>\n",
       "    <tr>\n",
       "      <th>1</th>\n",
       "      <td>[-123.7456, 122.20147, -27.748375, 16.356695, ...</td>\n",
       "      <td>Biaragi</td>\n",
       "    </tr>\n",
       "  </tbody>\n",
       "</table>\n",
       "</div>"
      ],
      "text/plain": [
       "                                             feature        target\n",
       "0  [-130.44264, 124.75439, -25.909184, 17.528477,...  Ahir Bhairov\n",
       "1  [-123.7456, 122.20147, -27.748375, 16.356695, ...       Biaragi"
      ]
     },
     "execution_count": 40,
     "metadata": {},
     "output_type": "execute_result"
    }
   ],
   "source": [
    "mfcc_all"
   ]
  },
  {
   "cell_type": "code",
   "execution_count": 46,
   "id": "8be37114",
   "metadata": {},
   "outputs": [
    {
     "data": {
      "text/html": [
       "<div>\n",
       "<style scoped>\n",
       "    .dataframe tbody tr th:only-of-type {\n",
       "        vertical-align: middle;\n",
       "    }\n",
       "\n",
       "    .dataframe tbody tr th {\n",
       "        vertical-align: top;\n",
       "    }\n",
       "\n",
       "    .dataframe thead th {\n",
       "        text-align: right;\n",
       "    }\n",
       "</style>\n",
       "<table border=\"1\" class=\"dataframe\">\n",
       "  <thead>\n",
       "    <tr style=\"text-align: right;\">\n",
       "      <th></th>\n",
       "      <th>Raag</th>\n",
       "    </tr>\n",
       "  </thead>\n",
       "  <tbody>\n",
       "    <tr>\n",
       "      <th>0</th>\n",
       "      <td>Ahir Bhairov</td>\n",
       "    </tr>\n",
       "    <tr>\n",
       "      <th>1</th>\n",
       "      <td>Biaragi</td>\n",
       "    </tr>\n",
       "  </tbody>\n",
       "</table>\n",
       "</div>"
      ],
      "text/plain": [
       "           Raag\n",
       "0  Ahir Bhairov\n",
       "1       Biaragi"
      ]
     },
     "execution_count": 46,
     "metadata": {},
     "output_type": "execute_result"
    }
   ],
   "source": [
    "cls"
   ]
  },
  {
   "cell_type": "code",
   "execution_count": 49,
   "id": "11231561",
   "metadata": {},
   "outputs": [
    {
     "data": {
      "text/plain": [
       "(2, 1)"
      ]
     },
     "execution_count": 49,
     "metadata": {},
     "output_type": "execute_result"
    }
   ],
   "source": [
    "x=mfcc_all\n",
    "x.shape"
   ]
  },
  {
   "cell_type": "code",
   "execution_count": 50,
   "id": "00527a4c",
   "metadata": {},
   "outputs": [
    {
     "data": {
      "text/plain": [
       "(2, 1)"
      ]
     },
     "execution_count": 50,
     "metadata": {},
     "output_type": "execute_result"
    }
   ],
   "source": [
    "y=cls\n",
    "y.shape"
   ]
  },
  {
   "cell_type": "code",
   "execution_count": 52,
   "id": "f3632671",
   "metadata": {},
   "outputs": [],
   "source": [
    "mfcc_all[\"targets\"]=target"
   ]
  },
  {
   "cell_type": "code",
   "execution_count": 53,
   "id": "ceaab534",
   "metadata": {},
   "outputs": [
    {
     "data": {
      "text/html": [
       "<div>\n",
       "<style scoped>\n",
       "    .dataframe tbody tr th:only-of-type {\n",
       "        vertical-align: middle;\n",
       "    }\n",
       "\n",
       "    .dataframe tbody tr th {\n",
       "        vertical-align: top;\n",
       "    }\n",
       "\n",
       "    .dataframe thead th {\n",
       "        text-align: right;\n",
       "    }\n",
       "</style>\n",
       "<table border=\"1\" class=\"dataframe\">\n",
       "  <thead>\n",
       "    <tr style=\"text-align: right;\">\n",
       "      <th></th>\n",
       "      <th>feature</th>\n",
       "      <th>targets</th>\n",
       "    </tr>\n",
       "  </thead>\n",
       "  <tbody>\n",
       "    <tr>\n",
       "      <th>0</th>\n",
       "      <td>[-130.44264, 124.75439, -25.909184, 17.528477,...</td>\n",
       "      <td>Ahir Bhairov</td>\n",
       "    </tr>\n",
       "    <tr>\n",
       "      <th>1</th>\n",
       "      <td>[-123.7456, 122.20147, -27.748375, 16.356695, ...</td>\n",
       "      <td>Biaragi</td>\n",
       "    </tr>\n",
       "  </tbody>\n",
       "</table>\n",
       "</div>"
      ],
      "text/plain": [
       "                                             feature       targets\n",
       "0  [-130.44264, 124.75439, -25.909184, 17.528477,...  Ahir Bhairov\n",
       "1  [-123.7456, 122.20147, -27.748375, 16.356695, ...       Biaragi"
      ]
     },
     "execution_count": 53,
     "metadata": {},
     "output_type": "execute_result"
    }
   ],
   "source": [
    "mfcc_all\n"
   ]
  },
  {
   "cell_type": "code",
   "execution_count": 64,
   "id": "38e07335",
   "metadata": {},
   "outputs": [],
   "source": [
    "for i in range(10):\n",
    "     mfcc_all= mfcc_all.append(mfcc_all)\n",
    "    "
   ]
  },
  {
   "cell_type": "code",
   "execution_count": 65,
   "id": "a1b44999",
   "metadata": {},
   "outputs": [
    {
     "data": {
      "text/html": [
       "<div>\n",
       "<style scoped>\n",
       "    .dataframe tbody tr th:only-of-type {\n",
       "        vertical-align: middle;\n",
       "    }\n",
       "\n",
       "    .dataframe tbody tr th {\n",
       "        vertical-align: top;\n",
       "    }\n",
       "\n",
       "    .dataframe thead th {\n",
       "        text-align: right;\n",
       "    }\n",
       "</style>\n",
       "<table border=\"1\" class=\"dataframe\">\n",
       "  <thead>\n",
       "    <tr style=\"text-align: right;\">\n",
       "      <th></th>\n",
       "      <th>feature</th>\n",
       "      <th>targets</th>\n",
       "    </tr>\n",
       "  </thead>\n",
       "  <tbody>\n",
       "    <tr>\n",
       "      <th>0</th>\n",
       "      <td>[-130.44264, 124.75439, -25.909184, 17.528477,...</td>\n",
       "      <td>Ahir Bhairov</td>\n",
       "    </tr>\n",
       "    <tr>\n",
       "      <th>1</th>\n",
       "      <td>[-123.7456, 122.20147, -27.748375, 16.356695, ...</td>\n",
       "      <td>Biaragi</td>\n",
       "    </tr>\n",
       "    <tr>\n",
       "      <th>0</th>\n",
       "      <td>[-130.44264, 124.75439, -25.909184, 17.528477,...</td>\n",
       "      <td>Ahir Bhairov</td>\n",
       "    </tr>\n",
       "    <tr>\n",
       "      <th>1</th>\n",
       "      <td>[-123.7456, 122.20147, -27.748375, 16.356695, ...</td>\n",
       "      <td>Biaragi</td>\n",
       "    </tr>\n",
       "    <tr>\n",
       "      <th>0</th>\n",
       "      <td>[-130.44264, 124.75439, -25.909184, 17.528477,...</td>\n",
       "      <td>Ahir Bhairov</td>\n",
       "    </tr>\n",
       "    <tr>\n",
       "      <th>...</th>\n",
       "      <td>...</td>\n",
       "      <td>...</td>\n",
       "    </tr>\n",
       "    <tr>\n",
       "      <th>1</th>\n",
       "      <td>[-123.7456, 122.20147, -27.748375, 16.356695, ...</td>\n",
       "      <td>Biaragi</td>\n",
       "    </tr>\n",
       "    <tr>\n",
       "      <th>0</th>\n",
       "      <td>[-130.44264, 124.75439, -25.909184, 17.528477,...</td>\n",
       "      <td>Ahir Bhairov</td>\n",
       "    </tr>\n",
       "    <tr>\n",
       "      <th>1</th>\n",
       "      <td>[-123.7456, 122.20147, -27.748375, 16.356695, ...</td>\n",
       "      <td>Biaragi</td>\n",
       "    </tr>\n",
       "    <tr>\n",
       "      <th>0</th>\n",
       "      <td>[-130.44264, 124.75439, -25.909184, 17.528477,...</td>\n",
       "      <td>Ahir Bhairov</td>\n",
       "    </tr>\n",
       "    <tr>\n",
       "      <th>1</th>\n",
       "      <td>[-123.7456, 122.20147, -27.748375, 16.356695, ...</td>\n",
       "      <td>Biaragi</td>\n",
       "    </tr>\n",
       "  </tbody>\n",
       "</table>\n",
       "<p>2048 rows × 2 columns</p>\n",
       "</div>"
      ],
      "text/plain": [
       "                                              feature       targets\n",
       "0   [-130.44264, 124.75439, -25.909184, 17.528477,...  Ahir Bhairov\n",
       "1   [-123.7456, 122.20147, -27.748375, 16.356695, ...       Biaragi\n",
       "0   [-130.44264, 124.75439, -25.909184, 17.528477,...  Ahir Bhairov\n",
       "1   [-123.7456, 122.20147, -27.748375, 16.356695, ...       Biaragi\n",
       "0   [-130.44264, 124.75439, -25.909184, 17.528477,...  Ahir Bhairov\n",
       "..                                                ...           ...\n",
       "1   [-123.7456, 122.20147, -27.748375, 16.356695, ...       Biaragi\n",
       "0   [-130.44264, 124.75439, -25.909184, 17.528477,...  Ahir Bhairov\n",
       "1   [-123.7456, 122.20147, -27.748375, 16.356695, ...       Biaragi\n",
       "0   [-130.44264, 124.75439, -25.909184, 17.528477,...  Ahir Bhairov\n",
       "1   [-123.7456, 122.20147, -27.748375, 16.356695, ...       Biaragi\n",
       "\n",
       "[2048 rows x 2 columns]"
      ]
     },
     "execution_count": 65,
     "metadata": {},
     "output_type": "execute_result"
    }
   ],
   "source": [
    "mfcc_all"
   ]
  },
  {
   "cell_type": "code",
   "execution_count": 63,
   "id": "a3eb173e",
   "metadata": {},
   "outputs": [
    {
     "data": {
      "text/html": [
       "<div>\n",
       "<style scoped>\n",
       "    .dataframe tbody tr th:only-of-type {\n",
       "        vertical-align: middle;\n",
       "    }\n",
       "\n",
       "    .dataframe tbody tr th {\n",
       "        vertical-align: top;\n",
       "    }\n",
       "\n",
       "    .dataframe thead th {\n",
       "        text-align: right;\n",
       "    }\n",
       "</style>\n",
       "<table border=\"1\" class=\"dataframe\">\n",
       "  <thead>\n",
       "    <tr style=\"text-align: right;\">\n",
       "      <th></th>\n",
       "      <th>feature</th>\n",
       "      <th>targets</th>\n",
       "    </tr>\n",
       "  </thead>\n",
       "  <tbody>\n",
       "    <tr>\n",
       "      <th>0</th>\n",
       "      <td>[-130.44264, 124.75439, -25.909184, 17.528477,...</td>\n",
       "      <td>Ahir Bhairov</td>\n",
       "    </tr>\n",
       "    <tr>\n",
       "      <th>1</th>\n",
       "      <td>[-123.7456, 122.20147, -27.748375, 16.356695, ...</td>\n",
       "      <td>Biaragi</td>\n",
       "    </tr>\n",
       "    <tr>\n",
       "      <th>0</th>\n",
       "      <td>[-130.44264, 124.75439, -25.909184, 17.528477,...</td>\n",
       "      <td>Ahir Bhairov</td>\n",
       "    </tr>\n",
       "    <tr>\n",
       "      <th>1</th>\n",
       "      <td>[-123.7456, 122.20147, -27.748375, 16.356695, ...</td>\n",
       "      <td>Biaragi</td>\n",
       "    </tr>\n",
       "  </tbody>\n",
       "</table>\n",
       "</div>"
      ],
      "text/plain": [
       "                                             feature       targets\n",
       "0  [-130.44264, 124.75439, -25.909184, 17.528477,...  Ahir Bhairov\n",
       "1  [-123.7456, 122.20147, -27.748375, 16.356695, ...       Biaragi\n",
       "0  [-130.44264, 124.75439, -25.909184, 17.528477,...  Ahir Bhairov\n",
       "1  [-123.7456, 122.20147, -27.748375, 16.356695, ...       Biaragi"
      ]
     },
     "execution_count": 63,
     "metadata": {},
     "output_type": "execute_result"
    }
   ],
   "source": [
    "mfcc_all.append(mfcc_all)\n",
    "    "
   ]
  },
  {
   "cell_type": "code",
   "execution_count": null,
   "id": "c8220a8f",
   "metadata": {},
   "outputs": [],
   "source": [
    "mfcc_all()"
   ]
  },
  {
   "cell_type": "code",
   "execution_count": null,
   "id": "477bb2f2",
   "metadata": {},
   "outputs": [],
   "source": []
  },
  {
   "cell_type": "code",
   "execution_count": 71,
   "id": "eb1a71db",
   "metadata": {},
   "outputs": [],
   "source": [
    "fgh=[[[-130.44264  ,  124.75439  ,  -25.909184 ,   17.528477 ,\n",
    "           -6.0792623,    8.366293 ,  -14.07918  ,   -8.832988 ,\n",
    "          -21.029907 ,   -6.610254 ,   -7.63176  ,   -8.419785 ,\n",
    "           -7.9431334,   -5.044788 ]]]"
   ]
  },
  {
   "cell_type": "code",
   "execution_count": 72,
   "id": "0b7794a5",
   "metadata": {},
   "outputs": [],
   "source": [
    "ghi=pd.DataFrame(fgh)"
   ]
  },
  {
   "cell_type": "code",
   "execution_count": 73,
   "id": "84a71639",
   "metadata": {},
   "outputs": [
    {
     "data": {
      "text/html": [
       "<div>\n",
       "<style scoped>\n",
       "    .dataframe tbody tr th:only-of-type {\n",
       "        vertical-align: middle;\n",
       "    }\n",
       "\n",
       "    .dataframe tbody tr th {\n",
       "        vertical-align: top;\n",
       "    }\n",
       "\n",
       "    .dataframe thead th {\n",
       "        text-align: right;\n",
       "    }\n",
       "</style>\n",
       "<table border=\"1\" class=\"dataframe\">\n",
       "  <thead>\n",
       "    <tr style=\"text-align: right;\">\n",
       "      <th></th>\n",
       "      <th>0</th>\n",
       "    </tr>\n",
       "  </thead>\n",
       "  <tbody>\n",
       "    <tr>\n",
       "      <th>0</th>\n",
       "      <td>[-130.44264, 124.75439, -25.909184, 17.528477,...</td>\n",
       "    </tr>\n",
       "  </tbody>\n",
       "</table>\n",
       "</div>"
      ],
      "text/plain": [
       "                                                   0\n",
       "0  [-130.44264, 124.75439, -25.909184, 17.528477,..."
      ]
     },
     "execution_count": 73,
     "metadata": {},
     "output_type": "execute_result"
    }
   ],
   "source": [
    "ghi"
   ]
  },
  {
   "cell_type": "code",
   "execution_count": 75,
   "id": "16878235",
   "metadata": {},
   "outputs": [
    {
     "data": {
      "text/plain": [
       "(2048, 2)"
      ]
     },
     "execution_count": 75,
     "metadata": {},
     "output_type": "execute_result"
    }
   ],
   "source": [
    "mfcc_all.shape"
   ]
  },
  {
   "cell_type": "code",
   "execution_count": 76,
   "id": "4459eae9",
   "metadata": {},
   "outputs": [],
   "source": [
    "mfcc_all.reset_index(drop=True, inplace=True)"
   ]
  },
  {
   "cell_type": "code",
   "execution_count": 2,
   "id": "151206e6",
   "metadata": {},
   "outputs": [
    {
     "ename": "NameError",
     "evalue": "name 'mfcc_all' is not defined",
     "output_type": "error",
     "traceback": [
      "\u001b[1;31m---------------------------------------------------------------------------\u001b[0m",
      "\u001b[1;31mNameError\u001b[0m                                 Traceback (most recent call last)",
      "\u001b[1;32m~\\AppData\\Local\\Temp/ipykernel_20264/2027906811.py\u001b[0m in \u001b[0;36m<module>\u001b[1;34m\u001b[0m\n\u001b[1;32m----> 1\u001b[1;33m \u001b[0mmfcc_all\u001b[0m\u001b[1;33m\u001b[0m\u001b[1;33m\u001b[0m\u001b[0m\n\u001b[0m",
      "\u001b[1;31mNameError\u001b[0m: name 'mfcc_all' is not defined"
     ]
    }
   ],
   "source": [
    "\n",
    "mfcc_all"
   ]
  },
  {
   "cell_type": "code",
   "execution_count": 1,
   "id": "73cb79f9",
   "metadata": {},
   "outputs": [
    {
     "ename": "NameError",
     "evalue": "name 'mfcc_all' is not defined",
     "output_type": "error",
     "traceback": [
      "\u001b[1;31m---------------------------------------------------------------------------\u001b[0m",
      "\u001b[1;31mNameError\u001b[0m                                 Traceback (most recent call last)",
      "\u001b[1;32m~\\AppData\\Local\\Temp/ipykernel_20264/1063730977.py\u001b[0m in \u001b[0;36m<module>\u001b[1;34m\u001b[0m\n\u001b[1;32m----> 1\u001b[1;33m \u001b[0mmfcc_all\u001b[0m\u001b[1;33m.\u001b[0m\u001b[0mto_csv\u001b[0m\u001b[1;33m(\u001b[0m\u001b[1;34m'augumented.csv'\u001b[0m\u001b[1;33m)\u001b[0m\u001b[1;33m\u001b[0m\u001b[1;33m\u001b[0m\u001b[0m\n\u001b[0m",
      "\u001b[1;31mNameError\u001b[0m: name 'mfcc_all' is not defined"
     ]
    }
   ],
   "source": [
    "mfcc_all.to_csv('augumented.csv')"
   ]
  }
 ],
 "metadata": {
  "kernelspec": {
   "display_name": "Python 3 (ipykernel)",
   "language": "python",
   "name": "python3"
  },
  "language_info": {
   "codemirror_mode": {
    "name": "ipython",
    "version": 3
   },
   "file_extension": ".py",
   "mimetype": "text/x-python",
   "name": "python",
   "nbconvert_exporter": "python",
   "pygments_lexer": "ipython3",
   "version": "3.8.8"
  }
 },
 "nbformat": 4,
 "nbformat_minor": 5
}
