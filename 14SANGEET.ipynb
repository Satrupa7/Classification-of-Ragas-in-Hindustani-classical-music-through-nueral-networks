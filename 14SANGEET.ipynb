{
 "cells": [
  {
   "cell_type": "code",
   "execution_count": 1,
   "id": "4949be48",
   "metadata": {},
   "outputs": [],
   "source": [
    "import librosa\n",
    "import librosa.display\n",
    "import IPython.display as ipd\n",
    "import matplotlib.pyplot as plt\n",
    "import numpy as np"
   ]
  },
  {
   "cell_type": "code",
   "execution_count": 3,
   "id": "36ba1e3a",
   "metadata": {},
   "outputs": [],
   "source": [
    "def plot(mfccs):\n",
    "   \n",
    "    plt.figure(figsize=(5, 2))\n",
    "    librosa.display.specshow(mfccs, \n",
    "                             x_axis=\"time\", \n",
    "                             sr=sr)\n",
    "    plt.colorbar(format=\"%+2.f\")\n",
    "    plt.show()\n",
    "    return mfccs"
   ]
  },
  {
   "cell_type": "code",
   "execution_count": 2,
   "id": "21a9d2bc",
   "metadata": {},
   "outputs": [],
   "source": [
    "def mfcc_a(audio_file):\n",
    "    signal, sr = librosa.load(audio_file)\n",
    "    mfccs = librosa.feature.mfcc(y=signal, n_mfcc=14, sr=sr)\n",
    "    mfccs_scaled_features = np.mean(mfccs.T,axis=0)\n",
    "    return mfccs_scaled_features, signal\n"
   ]
  },
  {
   "cell_type": "code",
   "execution_count": null,
   "id": "15cb2fae",
   "metadata": {},
   "outputs": [],
   "source": []
  },
  {
   "cell_type": "code",
   "execution_count": 5,
   "id": "cb439322",
   "metadata": {
    "scrolled": true
   },
   "outputs": [
    {
     "data": {
      "text/plain": [
       "\"\\ndirectory = 'D:\\\\Priya Mishra\\\\my_projects\\\\Wav files'\\nlm=[]\\nfor filename in os.listdir(directory):\\n    f = os.path.join(directory, filename)\\n    if os.path.isfile(f):\\n        m=mfcc_a(f)\\n        lm.append(m)\""
      ]
     },
     "execution_count": 5,
     "metadata": {},
     "output_type": "execute_result"
    }
   ],
   "source": [
    "import os\n",
    "'''\n",
    "directory = 'D:\\\\Priya Mishra\\\\my_projects\\\\Wav files'\n",
    "lm=[]\n",
    "for filename in os.listdir(directory):\n",
    "    f = os.path.join(directory, filename)\n",
    "    if os.path.isfile(f):\n",
    "        m=mfcc_a(f)\n",
    "        lm.append(m)'''"
   ]
  },
  {
   "cell_type": "code",
   "execution_count": 3,
   "id": "323bd72a",
   "metadata": {},
   "outputs": [],
   "source": [
    "import os\n",
    "directory = 'D:\\\\Priya Mishra\\\\my_projects\\\\Wav files'\n",
    "l=[]\n",
    "for filename in os.listdir(directory):\n",
    "    f = os.path.join(directory, filename)\n",
    "    if os.path.isfile(f):\n",
    "        l.append(f)\n",
    "        "
   ]
  },
  {
   "cell_type": "code",
   "execution_count": 7,
   "id": "523940f3",
   "metadata": {
    "scrolled": true
   },
   "outputs": [],
   "source": [
    "s1=l[0:5]\n",
    "s12=l[5:10]\n"
   ]
  },
  {
   "cell_type": "code",
   "execution_count": null,
   "id": "8cd90008",
   "metadata": {},
   "outputs": [],
   "source": []
  },
  {
   "cell_type": "code",
   "execution_count": 4,
   "id": "f183efe5",
   "metadata": {},
   "outputs": [],
   "source": [
    "ml=[]\n",
    "sig=[]\n",
    "d1=[]\n",
    "ps=[]"
   ]
  },
  {
   "cell_type": "code",
   "execution_count": 7,
   "id": "6123c961",
   "metadata": {
    "scrolled": true
   },
   "outputs": [
    {
     "name": "stdout",
     "output_type": "stream",
     "text": [
      "1\n",
      "2\n",
      "3\n",
      "4\n",
      "5\n"
     ]
    }
   ],
   "source": [
    "for i in s1:\n",
    "    h,aud=mfcc_a(i)\n",
    "    ml.append([h])\n",
    "    sig.append([aud])\n",
    "    d1.append(h)\n",
    "    ps.append(aud)\n",
    "    print(len(ml))"
   ]
  },
  {
   "cell_type": "code",
   "execution_count": 8,
   "id": "9d4ad660",
   "metadata": {},
   "outputs": [],
   "source": [
    "\"\"\"i=\"D:\\Priya Mishra\\my_projects\\Wav files\\Ajoy Chakrabarty - Raag Abhogi.wav\"\n",
    "i=\"D:\\Priya Mishra\\my_projects\\Wav files\\Ajoy Chakrabarty - Malkauns.wav\"\n",
    "h,aud=mfcc_a(i)  \n",
    "h.shape\n",
    "\n",
    "aud.shape\n",
    "len(sig)\n",
    "\n",
    "\"\"\""
   ]
  },
  {
   "cell_type": "code",
   "execution_count": 8,
   "id": "7450a184",
   "metadata": {},
   "outputs": [
    {
     "name": "stdout",
     "output_type": "stream",
     "text": [
      "6\n",
      "7\n",
      "8\n",
      "9\n",
      "10\n"
     ]
    }
   ],
   "source": [
    "for i in s12:\n",
    "    h,aud=mfcc_a(i)\n",
    "    ml.append([h])\n",
    "    sig.append([aud])\n",
    "    d1.append(h)\n",
    "    ps.append(aud)\n",
    "    print(len(ml))\n",
    "    "
   ]
  },
  {
   "cell_type": "code",
   "execution_count": null,
   "id": "864f5105",
   "metadata": {},
   "outputs": [],
   "source": []
  },
  {
   "cell_type": "code",
   "execution_count": null,
   "id": "b0e6b633",
   "metadata": {},
   "outputs": [],
   "source": []
  },
  {
   "cell_type": "code",
   "execution_count": 9,
   "id": "4d02c032",
   "metadata": {
    "scrolled": true
   },
   "outputs": [
    {
     "name": "stdout",
     "output_type": "stream",
     "text": [
      "11\n",
      "12\n",
      "13\n",
      "14\n",
      "15\n"
     ]
    }
   ],
   "source": [
    "s2=l[10:15]\n",
    "for i in s2:\n",
    "    h,aud=mfcc_a(i)\n",
    "    ml.append([h])\n",
    "    sig.append([aud])\n",
    "    d1.append(h)\n",
    "    ps.append(aud)\n",
    "    print(len(ml))\n",
    "    with open(\"mfcc\", 'a') as the_file:\n",
    "    print(ml, file=the_file)\n",
    "    print(\"\\n\")"
   ]
  },
  {
   "cell_type": "code",
   "execution_count": 10,
   "id": "be877d88",
   "metadata": {},
   "outputs": [
    {
     "name": "stdout",
     "output_type": "stream",
     "text": [
      "16\n",
      "17\n",
      "18\n",
      "19\n",
      "20\n"
     ]
    }
   ],
   "source": [
    "s21=l[15:20]\n",
    "for i in s21:\n",
    "    h,aud=mfcc_a(i)\n",
    "    ml.append([h])\n",
    "    sig.append([aud])\n",
    "    d1.append(h)\n",
    "    ps.append(aud)\n",
    "    print(len(ml))\n",
    "with open(\"mfcc\", 'a') as the_file:\n",
    "print(ml, file=the_file)\n",
    "print(\"\\n\")"
   ]
  },
  {
   "cell_type": "code",
   "execution_count": 11,
   "id": "6c435fdc",
   "metadata": {},
   "outputs": [
    {
     "name": "stdout",
     "output_type": "stream",
     "text": [
      "21\n",
      "22\n",
      "23\n",
      "24\n",
      "25\n"
     ]
    }
   ],
   "source": [
    "s22=l[20:25]\n",
    "for i in s22:\n",
    "    h,aud=mfcc_a(i)\n",
    "    ml.append([h])\n",
    "    sig.append([aud])\n",
    "    d1.append(h)\n",
    "    ps.append(aud)\n",
    "    print(len(ml))\n",
    "with open(\"mfcc1\", 'a') as the_file:\n",
    "print(ml, file=the_file)\n",
    "print(\"\\n\")"
   ]
  },
  {
   "cell_type": "code",
   "execution_count": 12,
   "id": "2215dacc",
   "metadata": {},
   "outputs": [
    {
     "name": "stdout",
     "output_type": "stream",
     "text": [
      "26\n",
      "27\n",
      "28\n",
      "29\n",
      "30\n"
     ]
    }
   ],
   "source": [
    "s23=l[25:30]\n",
    "for i in s23:\n",
    "    h,aud=mfcc_a(i)\n",
    "    ml.append([h])\n",
    "    sig.append([aud])\n",
    "    d1.append(h)\n",
    "    ps.append(aud)\n",
    "    print(len(ml))\n",
    "with open(\"mfcc2\", 'a') as the_file:\n",
    "print(ml, file=the_file)\n",
    "print(\"\\n\")"
   ]
  },
  {
   "cell_type": "code",
   "execution_count": 13,
   "id": "1a19e156",
   "metadata": {
    "scrolled": true
   },
   "outputs": [
    {
     "name": "stdout",
     "output_type": "stream",
     "text": [
      "31\n",
      "32\n",
      "33\n",
      "34\n",
      "35\n"
     ]
    }
   ],
   "source": [
    "s22=l[30:35]\n",
    "for i in s22:\n",
    "    h,aud=mfcc_a(i)\n",
    "    ml.append([h])\n",
    "    sig.append([aud])\n",
    "    d1.append(h)\n",
    "    ps.append(aud)\n",
    "    print(len(ml))\n",
    "with open(\"mfcc2 - Copy (2)\", 'a') as the_file:\n",
    "print(ml, file=the_file)\n"
   ]
  },
  {
   "cell_type": "code",
   "execution_count": 18,
   "id": "a80fa48c",
   "metadata": {},
   "outputs": [],
   "source": [
    "with open(\"mfcc1\", 'a') as the_file:\n",
    "    print(ml, file=the_file)"
   ]
  },
  {
   "cell_type": "code",
   "execution_count": 23,
   "id": "b122afd8",
   "metadata": {
    "scrolled": false
   },
   "outputs": [
    {
     "data": {
      "text/plain": [
       "[array([-148.49261  ,  144.88138  ,  -25.32835  ,    3.2545586,\n",
       "          -6.4367185,  -10.186007 ,  -21.29535  ,   -2.8271816,\n",
       "         -18.708195 ,  -21.599287 ,  -22.893688 ,   -4.3495765,\n",
       "          -1.4222852,   -1.58774  ], dtype=float32)]"
      ]
     },
     "execution_count": 23,
     "metadata": {},
     "output_type": "execute_result"
    }
   ],
   "source": [
    "ml[38]"
   ]
  },
  {
   "cell_type": "code",
   "execution_count": 24,
   "id": "e0481042",
   "metadata": {
    "scrolled": true
   },
   "outputs": [
    {
     "data": {
      "text/plain": [
       "[array([-185.74353  ,  159.35081  ,  -27.376936 ,    3.3150485,\n",
       "         -12.731904 ,   -4.911498 ,    1.2383784,  -15.390601 ,\n",
       "         -15.261695 ,   -9.248484 ,   -4.000035 ,   -3.0751204,\n",
       "          -5.982025 ,   -3.2087762], dtype=float32)]"
      ]
     },
     "execution_count": 24,
     "metadata": {},
     "output_type": "execute_result"
    }
   ],
   "source": [
    "ml[9]"
   ]
  },
  {
   "cell_type": "code",
   "execution_count": 34,
   "id": "709107ae",
   "metadata": {
    "scrolled": true
   },
   "outputs": [
    {
     "data": {
      "text/plain": [
       "39"
      ]
     },
     "execution_count": 34,
     "metadata": {},
     "output_type": "execute_result"
    }
   ],
   "source": [
    "len(ml)"
   ]
  },
  {
   "cell_type": "code",
   "execution_count": 39,
   "id": "9771917e",
   "metadata": {
    "scrolled": true
   },
   "outputs": [
    {
     "data": {
      "text/html": [
       "<div>\n",
       "<style scoped>\n",
       "    .dataframe tbody tr th:only-of-type {\n",
       "        vertical-align: middle;\n",
       "    }\n",
       "\n",
       "    .dataframe tbody tr th {\n",
       "        vertical-align: top;\n",
       "    }\n",
       "\n",
       "    .dataframe thead th {\n",
       "        text-align: right;\n",
       "    }\n",
       "</style>\n",
       "<table border=\"1\" class=\"dataframe\">\n",
       "  <thead>\n",
       "    <tr style=\"text-align: right;\">\n",
       "      <th></th>\n",
       "      <th>feature</th>\n",
       "    </tr>\n",
       "  </thead>\n",
       "  <tbody>\n",
       "    <tr>\n",
       "      <th>0</th>\n",
       "      <td>[-130.44264, 124.75439, -25.909184, 17.528477,...</td>\n",
       "    </tr>\n",
       "    <tr>\n",
       "      <th>1</th>\n",
       "      <td>[-123.7456, 122.20147, -27.748375, 16.356695, ...</td>\n",
       "    </tr>\n",
       "    <tr>\n",
       "      <th>2</th>\n",
       "      <td>[-124.48672, 125.02029, -27.07213, 17.065517, ...</td>\n",
       "    </tr>\n",
       "    <tr>\n",
       "      <th>3</th>\n",
       "      <td>[-116.82472, 121.65565, -24.777712, 14.576578,...</td>\n",
       "    </tr>\n",
       "    <tr>\n",
       "      <th>4</th>\n",
       "      <td>[-241.59195, 104.74408, -5.63432, 12.359122, -...</td>\n",
       "    </tr>\n",
       "    <tr>\n",
       "      <th>5</th>\n",
       "      <td>[-124.15818, 131.60779, -27.633663, 20.96222, ...</td>\n",
       "    </tr>\n",
       "    <tr>\n",
       "      <th>6</th>\n",
       "      <td>[-140.4426, 121.77156, -22.22223, 14.3607, -7....</td>\n",
       "    </tr>\n",
       "    <tr>\n",
       "      <th>7</th>\n",
       "      <td>[-134.9071, 121.97561, -24.355255, 17.707594, ...</td>\n",
       "    </tr>\n",
       "    <tr>\n",
       "      <th>8</th>\n",
       "      <td>[-169.78955, 131.20743, -58.911827, 42.998417,...</td>\n",
       "    </tr>\n",
       "    <tr>\n",
       "      <th>9</th>\n",
       "      <td>[-185.74353, 159.35081, -27.376936, 3.3150485,...</td>\n",
       "    </tr>\n",
       "    <tr>\n",
       "      <th>10</th>\n",
       "      <td>[-103.84991, 94.14669, -39.741226, 24.526674, ...</td>\n",
       "    </tr>\n",
       "    <tr>\n",
       "      <th>11</th>\n",
       "      <td>[-200.42012, 155.9239, -42.01113, 59.94852, 6....</td>\n",
       "    </tr>\n",
       "    <tr>\n",
       "      <th>12</th>\n",
       "      <td>[-232.67159, 124.06961, -7.2517834, 25.258024,...</td>\n",
       "    </tr>\n",
       "    <tr>\n",
       "      <th>13</th>\n",
       "      <td>[-120.41253, 129.5365, -26.604483, 21.50106, -...</td>\n",
       "    </tr>\n",
       "    <tr>\n",
       "      <th>14</th>\n",
       "      <td>[-112.75013, 121.81226, -70.139435, 7.132921, ...</td>\n",
       "    </tr>\n",
       "    <tr>\n",
       "      <th>15</th>\n",
       "      <td>[-175.86368, 139.42905, -41.357933, 9.558986, ...</td>\n",
       "    </tr>\n",
       "    <tr>\n",
       "      <th>16</th>\n",
       "      <td>[-251.99301, 110.768974, -10.220384, 14.076526...</td>\n",
       "    </tr>\n",
       "    <tr>\n",
       "      <th>17</th>\n",
       "      <td>[-136.42725, 124.93152, -19.273024, 16.757986,...</td>\n",
       "    </tr>\n",
       "    <tr>\n",
       "      <th>18</th>\n",
       "      <td>[-134.52528, 123.502365, -20.681108, 16.393513...</td>\n",
       "    </tr>\n",
       "    <tr>\n",
       "      <th>19</th>\n",
       "      <td>[-229.29893, 114.911575, -2.0315437, 19.167887...</td>\n",
       "    </tr>\n",
       "    <tr>\n",
       "      <th>20</th>\n",
       "      <td>[-173.22864, 139.48224, -38.120823, 5.131605, ...</td>\n",
       "    </tr>\n",
       "    <tr>\n",
       "      <th>21</th>\n",
       "      <td>[-126.05654, 125.41064, -22.030024, 17.46272, ...</td>\n",
       "    </tr>\n",
       "    <tr>\n",
       "      <th>22</th>\n",
       "      <td>[-180.65747, 104.685394, -6.9718494, 18.852127...</td>\n",
       "    </tr>\n",
       "    <tr>\n",
       "      <th>23</th>\n",
       "      <td>[-178.24988, 103.54265, -6.5904326, 12.288577,...</td>\n",
       "    </tr>\n",
       "    <tr>\n",
       "      <th>24</th>\n",
       "      <td>[-97.96924, 122.2326, -24.251537, 15.089391, -...</td>\n",
       "    </tr>\n",
       "    <tr>\n",
       "      <th>25</th>\n",
       "      <td>[-107.03622, 117.48554, -9.94276, -1.9984856, ...</td>\n",
       "    </tr>\n",
       "    <tr>\n",
       "      <th>26</th>\n",
       "      <td>[-109.92556, 117.98335, -25.539354, 13.796024,...</td>\n",
       "    </tr>\n",
       "    <tr>\n",
       "      <th>27</th>\n",
       "      <td>[-115.88295, 118.95695, -24.724049, 7.769584, ...</td>\n",
       "    </tr>\n",
       "    <tr>\n",
       "      <th>28</th>\n",
       "      <td>[-290.0379, 106.53703, -0.56386846, 18.45425, ...</td>\n",
       "    </tr>\n",
       "    <tr>\n",
       "      <th>29</th>\n",
       "      <td>[-83.06722, 118.887985, -23.868235, 19.476274,...</td>\n",
       "    </tr>\n",
       "    <tr>\n",
       "      <th>30</th>\n",
       "      <td>[-213.52933, 97.28549, -19.661127, 9.794159, -...</td>\n",
       "    </tr>\n",
       "    <tr>\n",
       "      <th>31</th>\n",
       "      <td>[-263.09003, 95.39172, -9.784006, 13.59697, 2....</td>\n",
       "    </tr>\n",
       "    <tr>\n",
       "      <th>32</th>\n",
       "      <td>[-262.75836, 98.75033, -17.638401, 22.157995, ...</td>\n",
       "    </tr>\n",
       "    <tr>\n",
       "      <th>33</th>\n",
       "      <td>[-211.86604, 113.289024, -25.251457, 11.180904...</td>\n",
       "    </tr>\n",
       "    <tr>\n",
       "      <th>34</th>\n",
       "      <td>[-234.50432, 204.05441, -16.641228, -12.73601,...</td>\n",
       "    </tr>\n",
       "    <tr>\n",
       "      <th>35</th>\n",
       "      <td>[-52.892036, 134.83391, -30.924334, 4.918468, ...</td>\n",
       "    </tr>\n",
       "    <tr>\n",
       "      <th>36</th>\n",
       "      <td>[-81.20945, 96.81176, -20.789413, 22.154434, -...</td>\n",
       "    </tr>\n",
       "    <tr>\n",
       "      <th>37</th>\n",
       "      <td>[-307.92752, 95.65912, -26.03704, 7.928783, -8...</td>\n",
       "    </tr>\n",
       "    <tr>\n",
       "      <th>38</th>\n",
       "      <td>[-148.49261, 144.88138, -25.32835, 3.2545586, ...</td>\n",
       "    </tr>\n",
       "  </tbody>\n",
       "</table>\n",
       "</div>"
      ],
      "text/plain": [
       "                                              feature\n",
       "0   [-130.44264, 124.75439, -25.909184, 17.528477,...\n",
       "1   [-123.7456, 122.20147, -27.748375, 16.356695, ...\n",
       "2   [-124.48672, 125.02029, -27.07213, 17.065517, ...\n",
       "3   [-116.82472, 121.65565, -24.777712, 14.576578,...\n",
       "4   [-241.59195, 104.74408, -5.63432, 12.359122, -...\n",
       "5   [-124.15818, 131.60779, -27.633663, 20.96222, ...\n",
       "6   [-140.4426, 121.77156, -22.22223, 14.3607, -7....\n",
       "7   [-134.9071, 121.97561, -24.355255, 17.707594, ...\n",
       "8   [-169.78955, 131.20743, -58.911827, 42.998417,...\n",
       "9   [-185.74353, 159.35081, -27.376936, 3.3150485,...\n",
       "10  [-103.84991, 94.14669, -39.741226, 24.526674, ...\n",
       "11  [-200.42012, 155.9239, -42.01113, 59.94852, 6....\n",
       "12  [-232.67159, 124.06961, -7.2517834, 25.258024,...\n",
       "13  [-120.41253, 129.5365, -26.604483, 21.50106, -...\n",
       "14  [-112.75013, 121.81226, -70.139435, 7.132921, ...\n",
       "15  [-175.86368, 139.42905, -41.357933, 9.558986, ...\n",
       "16  [-251.99301, 110.768974, -10.220384, 14.076526...\n",
       "17  [-136.42725, 124.93152, -19.273024, 16.757986,...\n",
       "18  [-134.52528, 123.502365, -20.681108, 16.393513...\n",
       "19  [-229.29893, 114.911575, -2.0315437, 19.167887...\n",
       "20  [-173.22864, 139.48224, -38.120823, 5.131605, ...\n",
       "21  [-126.05654, 125.41064, -22.030024, 17.46272, ...\n",
       "22  [-180.65747, 104.685394, -6.9718494, 18.852127...\n",
       "23  [-178.24988, 103.54265, -6.5904326, 12.288577,...\n",
       "24  [-97.96924, 122.2326, -24.251537, 15.089391, -...\n",
       "25  [-107.03622, 117.48554, -9.94276, -1.9984856, ...\n",
       "26  [-109.92556, 117.98335, -25.539354, 13.796024,...\n",
       "27  [-115.88295, 118.95695, -24.724049, 7.769584, ...\n",
       "28  [-290.0379, 106.53703, -0.56386846, 18.45425, ...\n",
       "29  [-83.06722, 118.887985, -23.868235, 19.476274,...\n",
       "30  [-213.52933, 97.28549, -19.661127, 9.794159, -...\n",
       "31  [-263.09003, 95.39172, -9.784006, 13.59697, 2....\n",
       "32  [-262.75836, 98.75033, -17.638401, 22.157995, ...\n",
       "33  [-211.86604, 113.289024, -25.251457, 11.180904...\n",
       "34  [-234.50432, 204.05441, -16.641228, -12.73601,...\n",
       "35  [-52.892036, 134.83391, -30.924334, 4.918468, ...\n",
       "36  [-81.20945, 96.81176, -20.789413, 22.154434, -...\n",
       "37  [-307.92752, 95.65912, -26.03704, 7.928783, -8...\n",
       "38  [-148.49261, 144.88138, -25.32835, 3.2545586, ..."
      ]
     },
     "execution_count": 39,
     "metadata": {},
     "output_type": "execute_result"
    }
   ],
   "source": [
    "import pandas as pd\n",
    "mfcc_all=pd.DataFrame(ml,columns=[\"feature\"])\n",
    "mfcc_all"
   ]
  },
  {
   "cell_type": "code",
   "execution_count": 40,
   "id": "e06739be",
   "metadata": {},
   "outputs": [],
   "source": [
    "mfcc_all.to_csv('39mfccs.csv')"
   ]
  },
  {
   "cell_type": "markdown",
   "id": "856202af",
   "metadata": {},
   "source": [
    "ml"
   ]
  },
  {
   "cell_type": "code",
   "execution_count": 10,
   "id": "1a8fff43",
   "metadata": {},
   "outputs": [
    {
     "ename": "NameError",
     "evalue": "name 'sig' is not defined",
     "output_type": "error",
     "traceback": [
      "\u001b[1;31m---------------------------------------------------------------------------\u001b[0m",
      "\u001b[1;31mNameError\u001b[0m                                 Traceback (most recent call last)",
      "\u001b[1;32m~\\AppData\\Local\\Temp/ipykernel_4456/3304722044.py\u001b[0m in \u001b[0;36m<module>\u001b[1;34m\u001b[0m\n\u001b[1;32m----> 1\u001b[1;33m \u001b[0msig\u001b[0m\u001b[1;33m\u001b[0m\u001b[1;33m\u001b[0m\u001b[0m\n\u001b[0m",
      "\u001b[1;31mNameError\u001b[0m: name 'sig' is not defined"
     ]
    }
   ],
   "source": [
    "sig"
   ]
  },
  {
   "cell_type": "code",
   "execution_count": 12,
   "id": "8dadee19",
   "metadata": {
    "scrolled": true
   },
   "outputs": [
    {
     "name": "stdout",
     "output_type": "stream",
     "text": [
      "D:\\Priya Mishra\\my_projects\\Wav files\\Kaustuv Kanti Ganguli - Raag Jog.wav\n",
      "1\n"
     ]
    }
   ],
   "source": [
    "\n",
    "s22=l[39:40]\n",
    "for i in s22:\n",
    "    print(i)\n",
    "    h,aud=mfcc_a(i)\n",
    "    ml.append([h])\n",
    "    sig.append([aud])\n",
    "    d1.append(h)\n",
    "    ps.append(aud)\n",
    "    print(len(ml))\n",
    "with open(\"mfcc2 - Copy (3)\", 'a') as the_file:\n",
    "    print(ml, file=the_file)\n",
    "    print(sig, file=the_file)\n"
   ]
  },
  {
   "cell_type": "code",
   "execution_count": 13,
   "id": "36855dcf",
   "metadata": {},
   "outputs": [
    {
     "data": {
      "text/plain": [
       "[[array([-55.771942  , 143.37852   , -27.527369  ,   6.201846  ,\n",
       "         -10.061275  ,  -3.6881516 ,  -9.9933    ,  -9.50893   ,\n",
       "         -13.3525505 ,   0.78047466, -12.800682  ,  -4.643773  ,\n",
       "          -6.3236213 ,  -6.3763742 ], dtype=float32)]]"
      ]
     },
     "execution_count": 13,
     "metadata": {},
     "output_type": "execute_result"
    }
   ],
   "source": [
    "ml"
   ]
  },
  {
   "cell_type": "code",
   "execution_count": 14,
   "id": "7ed8f1d0",
   "metadata": {},
   "outputs": [
    {
     "name": "stdout",
     "output_type": "stream",
     "text": [
      "D:\\Priya Mishra\\my_projects\\Wav files\\Kaustuv Kanti Ganguli - Raag Lalit Pancham.wav\n",
      "2\n",
      "D:\\Priya Mishra\\my_projects\\Wav files\\Kaustuv Kanti Ganguli - Raag Lalit.wav\n",
      "3\n",
      "D:\\Priya Mishra\\my_projects\\Wav files\\Kaustuv Kanti Ganguli - Raag Madhukauns.wav\n",
      "4\n",
      "D:\\Priya Mishra\\my_projects\\Wav files\\Kaustuv Kanti Ganguli - Raag Marwa.wav\n",
      "5\n",
      "D:\\Priya Mishra\\my_projects\\Wav files\\Kaustuv Kanti Ganguli - Raag Miyan Malhar.wav\n",
      "6\n"
     ]
    }
   ],
   "source": [
    "s22=l[40:45]\n",
    "for i in s22:\n",
    "    print(i)\n",
    "    h,aud=mfcc_a(i)\n",
    "    ml.append([h])\n",
    "    sig.append([aud])\n",
    "    d1.append(h)\n",
    "    ps.append(aud)\n",
    "    print(len(ml))\n",
    "with open(\"mfcc2 - Copy (4)\", 'a') as the_file:\n",
    "     print(ml, file=the_file)\n"
   ]
  },
  {
   "cell_type": "code",
   "execution_count": 15,
   "id": "e6f75459",
   "metadata": {},
   "outputs": [
    {
     "data": {
      "text/plain": [
       "[[array([-55.771942  , 143.37852   , -27.527369  ,   6.201846  ,\n",
       "         -10.061275  ,  -3.6881516 ,  -9.9933    ,  -9.50893   ,\n",
       "         -13.3525505 ,   0.78047466, -12.800682  ,  -4.643773  ,\n",
       "          -6.3236213 ,  -6.3763742 ], dtype=float32)],\n",
       " [array([-246.47263   ,  213.21353   ,  -12.739968  ,   -7.456553  ,\n",
       "           23.042042  ,   14.855446  ,  -11.370579  ,  -12.4707985 ,\n",
       "           -4.6595    ,   -2.685079  ,   -3.7522447 ,    0.87008065,\n",
       "           -1.6294159 ,  -13.05799   ], dtype=float32)],\n",
       " [array([-327.6305    ,  100.040436  ,  -25.603403  ,    6.5762205 ,\n",
       "          -11.012591  ,   -7.8612843 ,  -16.924469  ,  -17.173645  ,\n",
       "          -23.44842   ,    3.3643374 ,  -11.8464155 ,   -7.4226503 ,\n",
       "           -8.90772   ,   -0.42099208], dtype=float32)],\n",
       " [array([-358.27808  ,   78.40876  ,  -13.740558 ,   19.455133 ,\n",
       "           -6.8017597,   -3.55915  ,   -9.054435 ,   -8.658523 ,\n",
       "          -18.645283 ,   -2.7848134,   -6.3677006,   -5.712944 ,\n",
       "           -7.548322 ,    2.0906281], dtype=float32)],\n",
       " [array([-6.2346741e+02,  5.8464026e+00, -2.2365279e+00,  3.5006380e-01,\n",
       "         -1.3961320e+00, -4.2819592e-01, -1.5870072e+00, -1.4900482e+00,\n",
       "         -1.5617290e+00, -5.6631118e-01, -3.0879802e-01, -1.1320010e+00,\n",
       "         -6.8496895e-01,  5.2177978e-01], dtype=float32)],\n",
       " [array([-5.2170294e+02,  3.7598022e+01, -8.5196896e+00,  5.1733255e+00,\n",
       "         -1.6880074e+00, -7.1147251e-01, -1.8387107e+00, -4.9910088e+00,\n",
       "         -9.1346788e+00,  9.0853691e-02, -5.8452692e+00, -2.2190294e+00,\n",
       "         -7.0242606e-02, -3.9507091e-01], dtype=float32)]]"
      ]
     },
     "execution_count": 15,
     "metadata": {},
     "output_type": "execute_result"
    }
   ],
   "source": [
    "ml"
   ]
  },
  {
   "cell_type": "code",
   "execution_count": 16,
   "id": "81e403ab",
   "metadata": {},
   "outputs": [
    {
     "name": "stdout",
     "output_type": "stream",
     "text": [
      "D:\\Priya Mishra\\my_projects\\Wav files\\Kaustuv Kanti Ganguli - Raag Puriya Dhanashree.wav\n",
      "7\n",
      "D:\\Priya Mishra\\my_projects\\Wav files\\Kaustuv Kanti Ganguli - Raag Shree.wav\n",
      "8\n",
      "D:\\Priya Mishra\\my_projects\\Wav files\\Kaustuv Kanti Ganguli - Raag Yaman.wav\n",
      "9\n",
      "D:\\Priya Mishra\\my_projects\\Wav files\\Kumar Gandharva - Nirgun Bhajan.wav\n",
      "10\n",
      "D:\\Priya Mishra\\my_projects\\Wav files\\Kumar Gandharva - Raag Bhairav.wav\n",
      "11\n"
     ]
    }
   ],
   "source": [
    "s22=l[45:50]\n",
    "for i in s22:\n",
    "    print(i)\n",
    "    h,aud=mfcc_a(i)\n",
    "    ml.append([h])\n",
    "    sig.append([aud])\n",
    "    d1.append(h)\n",
    "    ps.append(aud)\n",
    "    print(len(ml))\n",
    "with open(\"mfcc2 - Copy (5)\", 'a') as the_file:\n",
    "     print(ml, file=the_file)\n"
   ]
  },
  {
   "cell_type": "code",
   "execution_count": 17,
   "id": "534dc02d",
   "metadata": {},
   "outputs": [
    {
     "data": {
      "text/plain": [
       "[[array([-55.771942  , 143.37852   , -27.527369  ,   6.201846  ,\n",
       "         -10.061275  ,  -3.6881516 ,  -9.9933    ,  -9.50893   ,\n",
       "         -13.3525505 ,   0.78047466, -12.800682  ,  -4.643773  ,\n",
       "          -6.3236213 ,  -6.3763742 ], dtype=float32)],\n",
       " [array([-246.47263   ,  213.21353   ,  -12.739968  ,   -7.456553  ,\n",
       "           23.042042  ,   14.855446  ,  -11.370579  ,  -12.4707985 ,\n",
       "           -4.6595    ,   -2.685079  ,   -3.7522447 ,    0.87008065,\n",
       "           -1.6294159 ,  -13.05799   ], dtype=float32)],\n",
       " [array([-327.6305    ,  100.040436  ,  -25.603403  ,    6.5762205 ,\n",
       "          -11.012591  ,   -7.8612843 ,  -16.924469  ,  -17.173645  ,\n",
       "          -23.44842   ,    3.3643374 ,  -11.8464155 ,   -7.4226503 ,\n",
       "           -8.90772   ,   -0.42099208], dtype=float32)],\n",
       " [array([-358.27808  ,   78.40876  ,  -13.740558 ,   19.455133 ,\n",
       "           -6.8017597,   -3.55915  ,   -9.054435 ,   -8.658523 ,\n",
       "          -18.645283 ,   -2.7848134,   -6.3677006,   -5.712944 ,\n",
       "           -7.548322 ,    2.0906281], dtype=float32)],\n",
       " [array([-6.2346741e+02,  5.8464026e+00, -2.2365279e+00,  3.5006380e-01,\n",
       "         -1.3961320e+00, -4.2819592e-01, -1.5870072e+00, -1.4900482e+00,\n",
       "         -1.5617290e+00, -5.6631118e-01, -3.0879802e-01, -1.1320010e+00,\n",
       "         -6.8496895e-01,  5.2177978e-01], dtype=float32)],\n",
       " [array([-5.2170294e+02,  3.7598022e+01, -8.5196896e+00,  5.1733255e+00,\n",
       "         -1.6880074e+00, -7.1147251e-01, -1.8387107e+00, -4.9910088e+00,\n",
       "         -9.1346788e+00,  9.0853691e-02, -5.8452692e+00, -2.2190294e+00,\n",
       "         -7.0242606e-02, -3.9507091e-01], dtype=float32)],\n",
       " [array([-145.57077  ,  141.69208  ,  -24.387417 ,    4.992651 ,\n",
       "           -6.216929 ,   -6.1979084,  -22.438677 ,   -4.9189434,\n",
       "          -16.323298 ,  -15.295621 ,  -16.70805  ,   -2.473123 ,\n",
       "           -4.1620154,   -6.1296167], dtype=float32)],\n",
       " [array([-2.4858031e+02,  2.0766873e+02, -6.9824514e+00, -1.3934243e+01,\n",
       "          2.2998871e+01,  1.4191082e+01, -9.0107708e+00, -1.1545364e+01,\n",
       "         -3.7503147e+00,  2.4952269e-01, -9.9533916e-02,  1.7741871e+00,\n",
       "         -5.9933162e+00, -1.4522583e+01], dtype=float32)],\n",
       " [array([-338.72882  ,  105.36056  ,  -25.44444  ,    6.630378 ,\n",
       "           -6.478553 ,   -2.5644286,  -16.186583 ,  -12.3058605,\n",
       "          -24.1319   ,   -4.7789836,  -14.2141905,   -7.8023353,\n",
       "           -7.8441944,    1.5036826], dtype=float32)],\n",
       " [array([-2.66228241e+02,  1.36111389e+02, -3.62865486e+01,  4.92956047e+01,\n",
       "         -1.08589916e+01, -1.97495937e+01,  1.19997797e+01, -1.02347355e+01,\n",
       "         -1.75788612e+01,  3.54499507e+00, -2.59479022e+00, -8.26797771e+00,\n",
       "          7.32762963e-02, -6.72345591e+00], dtype=float32)],\n",
       " [array([-242.4076   ,  159.22153  ,  -36.203228 ,   19.764275 ,\n",
       "           27.186588 ,   -3.0652215,   18.203524 ,    9.151973 ,\n",
       "           -5.7238884,    3.4471307,   -0.6057377,   -6.571096 ,\n",
       "           -2.1699643,   -4.777768 ], dtype=float32)]]"
      ]
     },
     "execution_count": 17,
     "metadata": {},
     "output_type": "execute_result"
    }
   ],
   "source": [
    "ml"
   ]
  },
  {
   "cell_type": "code",
   "execution_count": 5,
   "id": "8ada0e6d",
   "metadata": {
    "scrolled": true
   },
   "outputs": [
    {
     "name": "stdout",
     "output_type": "stream",
     "text": [
      "D:\\Priya Mishra\\my_projects\\Wav files\\Kumar Gandharva - Raag Lagan Gandhar.wav\n",
      "1\n",
      "D:\\Priya Mishra\\my_projects\\Wav files\\Kumar Gandharva - Raag Todi.wav\n"
     ]
    },
    {
     "ename": "MemoryError",
     "evalue": "Unable to allocate 718. MiB for an array with shape (188115311,) and data type float32",
     "output_type": "error",
     "traceback": [
      "\u001b[1;31m---------------------------------------------------------------------------\u001b[0m",
      "\u001b[1;31mMemoryError\u001b[0m                               Traceback (most recent call last)",
      "\u001b[1;32m~\\AppData\\Local\\Temp/ipykernel_14088/4286699933.py\u001b[0m in \u001b[0;36m<module>\u001b[1;34m\u001b[0m\n\u001b[0;32m      2\u001b[0m \u001b[1;32mfor\u001b[0m \u001b[0mi\u001b[0m \u001b[1;32min\u001b[0m \u001b[0ms4\u001b[0m\u001b[1;33m:\u001b[0m\u001b[1;33m\u001b[0m\u001b[1;33m\u001b[0m\u001b[0m\n\u001b[0;32m      3\u001b[0m     \u001b[0mprint\u001b[0m\u001b[1;33m(\u001b[0m\u001b[0mi\u001b[0m\u001b[1;33m)\u001b[0m\u001b[1;33m\u001b[0m\u001b[1;33m\u001b[0m\u001b[0m\n\u001b[1;32m----> 4\u001b[1;33m     \u001b[0mh\u001b[0m\u001b[1;33m,\u001b[0m\u001b[0maud\u001b[0m\u001b[1;33m=\u001b[0m\u001b[0mmfcc_a\u001b[0m\u001b[1;33m(\u001b[0m\u001b[0mi\u001b[0m\u001b[1;33m)\u001b[0m\u001b[1;33m\u001b[0m\u001b[1;33m\u001b[0m\u001b[0m\n\u001b[0m\u001b[0;32m      5\u001b[0m     \u001b[0mml\u001b[0m\u001b[1;33m.\u001b[0m\u001b[0mappend\u001b[0m\u001b[1;33m(\u001b[0m\u001b[1;33m[\u001b[0m\u001b[0mh\u001b[0m\u001b[1;33m]\u001b[0m\u001b[1;33m)\u001b[0m\u001b[1;33m\u001b[0m\u001b[1;33m\u001b[0m\u001b[0m\n\u001b[0;32m      6\u001b[0m     \u001b[0msig\u001b[0m\u001b[1;33m.\u001b[0m\u001b[0mappend\u001b[0m\u001b[1;33m(\u001b[0m\u001b[1;33m[\u001b[0m\u001b[0maud\u001b[0m\u001b[1;33m]\u001b[0m\u001b[1;33m)\u001b[0m\u001b[1;33m\u001b[0m\u001b[1;33m\u001b[0m\u001b[0m\n",
      "\u001b[1;32m~\\AppData\\Local\\Temp/ipykernel_14088/2212190735.py\u001b[0m in \u001b[0;36mmfcc_a\u001b[1;34m(audio_file)\u001b[0m\n\u001b[0;32m      1\u001b[0m \u001b[1;32mdef\u001b[0m \u001b[0mmfcc_a\u001b[0m\u001b[1;33m(\u001b[0m\u001b[0maudio_file\u001b[0m\u001b[1;33m)\u001b[0m\u001b[1;33m:\u001b[0m\u001b[1;33m\u001b[0m\u001b[1;33m\u001b[0m\u001b[0m\n\u001b[1;32m----> 2\u001b[1;33m     \u001b[0msignal\u001b[0m\u001b[1;33m,\u001b[0m \u001b[0msr\u001b[0m \u001b[1;33m=\u001b[0m \u001b[0mlibrosa\u001b[0m\u001b[1;33m.\u001b[0m\u001b[0mload\u001b[0m\u001b[1;33m(\u001b[0m\u001b[0maudio_file\u001b[0m\u001b[1;33m)\u001b[0m\u001b[1;33m\u001b[0m\u001b[1;33m\u001b[0m\u001b[0m\n\u001b[0m\u001b[0;32m      3\u001b[0m     \u001b[0mmfccs\u001b[0m \u001b[1;33m=\u001b[0m \u001b[0mlibrosa\u001b[0m\u001b[1;33m.\u001b[0m\u001b[0mfeature\u001b[0m\u001b[1;33m.\u001b[0m\u001b[0mmfcc\u001b[0m\u001b[1;33m(\u001b[0m\u001b[0my\u001b[0m\u001b[1;33m=\u001b[0m\u001b[0msignal\u001b[0m\u001b[1;33m,\u001b[0m \u001b[0mn_mfcc\u001b[0m\u001b[1;33m=\u001b[0m\u001b[1;36m14\u001b[0m\u001b[1;33m,\u001b[0m \u001b[0msr\u001b[0m\u001b[1;33m=\u001b[0m\u001b[0msr\u001b[0m\u001b[1;33m)\u001b[0m\u001b[1;33m\u001b[0m\u001b[1;33m\u001b[0m\u001b[0m\n\u001b[0;32m      4\u001b[0m     \u001b[0mmfccs_scaled_features\u001b[0m \u001b[1;33m=\u001b[0m \u001b[0mnp\u001b[0m\u001b[1;33m.\u001b[0m\u001b[0mmean\u001b[0m\u001b[1;33m(\u001b[0m\u001b[0mmfccs\u001b[0m\u001b[1;33m.\u001b[0m\u001b[0mT\u001b[0m\u001b[1;33m,\u001b[0m\u001b[0maxis\u001b[0m\u001b[1;33m=\u001b[0m\u001b[1;36m0\u001b[0m\u001b[1;33m)\u001b[0m\u001b[1;33m\u001b[0m\u001b[1;33m\u001b[0m\u001b[0m\n\u001b[0;32m      5\u001b[0m     \u001b[1;32mreturn\u001b[0m \u001b[0mmfccs_scaled_features\u001b[0m\u001b[1;33m,\u001b[0m \u001b[0msignal\u001b[0m\u001b[1;33m\u001b[0m\u001b[1;33m\u001b[0m\u001b[0m\n",
      "\u001b[1;32m~\\anaconda3\\lib\\site-packages\\librosa\\core\\audio.py\u001b[0m in \u001b[0;36mload\u001b[1;34m(path, sr, mono, offset, duration, dtype, res_type)\u001b[0m\n\u001b[0;32m    170\u001b[0m     \u001b[1;31m# Final cleanup for dtype and contiguity\u001b[0m\u001b[1;33m\u001b[0m\u001b[1;33m\u001b[0m\u001b[1;33m\u001b[0m\u001b[0m\n\u001b[0;32m    171\u001b[0m     \u001b[1;32mif\u001b[0m \u001b[0mmono\u001b[0m\u001b[1;33m:\u001b[0m\u001b[1;33m\u001b[0m\u001b[1;33m\u001b[0m\u001b[0m\n\u001b[1;32m--> 172\u001b[1;33m         \u001b[0my\u001b[0m \u001b[1;33m=\u001b[0m \u001b[0mto_mono\u001b[0m\u001b[1;33m(\u001b[0m\u001b[0my\u001b[0m\u001b[1;33m)\u001b[0m\u001b[1;33m\u001b[0m\u001b[1;33m\u001b[0m\u001b[0m\n\u001b[0m\u001b[0;32m    173\u001b[0m \u001b[1;33m\u001b[0m\u001b[0m\n\u001b[0;32m    174\u001b[0m     \u001b[1;32mif\u001b[0m \u001b[0msr\u001b[0m \u001b[1;32mis\u001b[0m \u001b[1;32mnot\u001b[0m \u001b[1;32mNone\u001b[0m\u001b[1;33m:\u001b[0m\u001b[1;33m\u001b[0m\u001b[1;33m\u001b[0m\u001b[0m\n",
      "\u001b[1;32m~\\anaconda3\\lib\\site-packages\\librosa\\core\\audio.py\u001b[0m in \u001b[0;36mto_mono\u001b[1;34m(y)\u001b[0m\n\u001b[0;32m    455\u001b[0m \u001b[1;33m\u001b[0m\u001b[0m\n\u001b[0;32m    456\u001b[0m     \u001b[1;32mif\u001b[0m \u001b[0my\u001b[0m\u001b[1;33m.\u001b[0m\u001b[0mndim\u001b[0m \u001b[1;33m>\u001b[0m \u001b[1;36m1\u001b[0m\u001b[1;33m:\u001b[0m\u001b[1;33m\u001b[0m\u001b[1;33m\u001b[0m\u001b[0m\n\u001b[1;32m--> 457\u001b[1;33m         \u001b[0my\u001b[0m \u001b[1;33m=\u001b[0m \u001b[0mnp\u001b[0m\u001b[1;33m.\u001b[0m\u001b[0mmean\u001b[0m\u001b[1;33m(\u001b[0m\u001b[0my\u001b[0m\u001b[1;33m,\u001b[0m \u001b[0maxis\u001b[0m\u001b[1;33m=\u001b[0m\u001b[1;36m0\u001b[0m\u001b[1;33m)\u001b[0m\u001b[1;33m\u001b[0m\u001b[1;33m\u001b[0m\u001b[0m\n\u001b[0m\u001b[0;32m    458\u001b[0m \u001b[1;33m\u001b[0m\u001b[0m\n\u001b[0;32m    459\u001b[0m     \u001b[1;32mreturn\u001b[0m \u001b[0my\u001b[0m\u001b[1;33m\u001b[0m\u001b[1;33m\u001b[0m\u001b[0m\n",
      "\u001b[1;32m<__array_function__ internals>\u001b[0m in \u001b[0;36mmean\u001b[1;34m(*args, **kwargs)\u001b[0m\n",
      "\u001b[1;32m~\\anaconda3\\lib\\site-packages\\numpy\\core\\fromnumeric.py\u001b[0m in \u001b[0;36mmean\u001b[1;34m(a, axis, dtype, out, keepdims, where)\u001b[0m\n\u001b[0;32m   3417\u001b[0m             \u001b[1;32mreturn\u001b[0m \u001b[0mmean\u001b[0m\u001b[1;33m(\u001b[0m\u001b[0maxis\u001b[0m\u001b[1;33m=\u001b[0m\u001b[0maxis\u001b[0m\u001b[1;33m,\u001b[0m \u001b[0mdtype\u001b[0m\u001b[1;33m=\u001b[0m\u001b[0mdtype\u001b[0m\u001b[1;33m,\u001b[0m \u001b[0mout\u001b[0m\u001b[1;33m=\u001b[0m\u001b[0mout\u001b[0m\u001b[1;33m,\u001b[0m \u001b[1;33m**\u001b[0m\u001b[0mkwargs\u001b[0m\u001b[1;33m)\u001b[0m\u001b[1;33m\u001b[0m\u001b[1;33m\u001b[0m\u001b[0m\n\u001b[0;32m   3418\u001b[0m \u001b[1;33m\u001b[0m\u001b[0m\n\u001b[1;32m-> 3419\u001b[1;33m     return _methods._mean(a, axis=axis, dtype=dtype,\n\u001b[0m\u001b[0;32m   3420\u001b[0m                           out=out, **kwargs)\n\u001b[0;32m   3421\u001b[0m \u001b[1;33m\u001b[0m\u001b[0m\n",
      "\u001b[1;32m~\\anaconda3\\lib\\site-packages\\numpy\\core\\_methods.py\u001b[0m in \u001b[0;36m_mean\u001b[1;34m(a, axis, dtype, out, keepdims, where)\u001b[0m\n\u001b[0;32m    176\u001b[0m             \u001b[0mis_float16_result\u001b[0m \u001b[1;33m=\u001b[0m \u001b[1;32mTrue\u001b[0m\u001b[1;33m\u001b[0m\u001b[1;33m\u001b[0m\u001b[0m\n\u001b[0;32m    177\u001b[0m \u001b[1;33m\u001b[0m\u001b[0m\n\u001b[1;32m--> 178\u001b[1;33m     \u001b[0mret\u001b[0m \u001b[1;33m=\u001b[0m \u001b[0mumr_sum\u001b[0m\u001b[1;33m(\u001b[0m\u001b[0marr\u001b[0m\u001b[1;33m,\u001b[0m \u001b[0maxis\u001b[0m\u001b[1;33m,\u001b[0m \u001b[0mdtype\u001b[0m\u001b[1;33m,\u001b[0m \u001b[0mout\u001b[0m\u001b[1;33m,\u001b[0m \u001b[0mkeepdims\u001b[0m\u001b[1;33m,\u001b[0m \u001b[0mwhere\u001b[0m\u001b[1;33m=\u001b[0m\u001b[0mwhere\u001b[0m\u001b[1;33m)\u001b[0m\u001b[1;33m\u001b[0m\u001b[1;33m\u001b[0m\u001b[0m\n\u001b[0m\u001b[0;32m    179\u001b[0m     \u001b[1;32mif\u001b[0m \u001b[0misinstance\u001b[0m\u001b[1;33m(\u001b[0m\u001b[0mret\u001b[0m\u001b[1;33m,\u001b[0m \u001b[0mmu\u001b[0m\u001b[1;33m.\u001b[0m\u001b[0mndarray\u001b[0m\u001b[1;33m)\u001b[0m\u001b[1;33m:\u001b[0m\u001b[1;33m\u001b[0m\u001b[1;33m\u001b[0m\u001b[0m\n\u001b[0;32m    180\u001b[0m         ret = um.true_divide(\n",
      "\u001b[1;31mMemoryError\u001b[0m: Unable to allocate 718. MiB for an array with shape (188115311,) and data type float32"
     ]
    }
   ],
   "source": [
    "\n",
    "s4=l[51:55]\n",
    "for i in s4:\n",
    "    print(i)\n",
    "    h,aud=mfcc_a(i)\n",
    "    ml.append([h])\n",
    "    sig.append([aud])\n",
    "    d1.append(h)\n",
    "    ps.append(aud)\n",
    "    print(len(ml))\n",
    "with open(\"mfcc2 - Copy (6)\", 'a') as the_file:\n",
    "    print(ml, file=the_file)\n"
   ]
  },
  {
   "cell_type": "code",
   "execution_count": 22,
   "id": "72234cee",
   "metadata": {},
   "outputs": [],
   "source": [
    "import pandas as pd"
   ]
  },
  {
   "cell_type": "code",
   "execution_count": 23,
   "id": "4fbd379c",
   "metadata": {
    "scrolled": true
   },
   "outputs": [
    {
     "data": {
      "text/html": [
       "<div>\n",
       "<style scoped>\n",
       "    .dataframe tbody tr th:only-of-type {\n",
       "        vertical-align: middle;\n",
       "    }\n",
       "\n",
       "    .dataframe tbody tr th {\n",
       "        vertical-align: top;\n",
       "    }\n",
       "\n",
       "    .dataframe thead th {\n",
       "        text-align: right;\n",
       "    }\n",
       "</style>\n",
       "<table border=\"1\" class=\"dataframe\">\n",
       "  <thead>\n",
       "    <tr style=\"text-align: right;\">\n",
       "      <th></th>\n",
       "      <th>feature</th>\n",
       "    </tr>\n",
       "  </thead>\n",
       "  <tbody>\n",
       "    <tr>\n",
       "      <th>0</th>\n",
       "      <td>[-55.771942, 143.37852, -27.527369, 6.201846, ...</td>\n",
       "    </tr>\n",
       "    <tr>\n",
       "      <th>1</th>\n",
       "      <td>[-246.47263, 213.21353, -12.739968, -7.456553,...</td>\n",
       "    </tr>\n",
       "    <tr>\n",
       "      <th>2</th>\n",
       "      <td>[-327.6305, 100.040436, -25.603403, 6.5762205,...</td>\n",
       "    </tr>\n",
       "    <tr>\n",
       "      <th>3</th>\n",
       "      <td>[-358.27808, 78.40876, -13.740558, 19.455133, ...</td>\n",
       "    </tr>\n",
       "    <tr>\n",
       "      <th>4</th>\n",
       "      <td>[-623.4674, 5.8464026, -2.236528, 0.3500638, -...</td>\n",
       "    </tr>\n",
       "    <tr>\n",
       "      <th>5</th>\n",
       "      <td>[-521.70294, 37.598022, -8.51969, 5.1733255, -...</td>\n",
       "    </tr>\n",
       "    <tr>\n",
       "      <th>6</th>\n",
       "      <td>[-145.57077, 141.69208, -24.387417, 4.992651, ...</td>\n",
       "    </tr>\n",
       "    <tr>\n",
       "      <th>7</th>\n",
       "      <td>[-248.5803, 207.66873, -6.9824514, -13.934243,...</td>\n",
       "    </tr>\n",
       "    <tr>\n",
       "      <th>8</th>\n",
       "      <td>[-338.72882, 105.36056, -25.44444, 6.630378, -...</td>\n",
       "    </tr>\n",
       "    <tr>\n",
       "      <th>9</th>\n",
       "      <td>[-266.22824, 136.11139, -36.28655, 49.295605, ...</td>\n",
       "    </tr>\n",
       "    <tr>\n",
       "      <th>10</th>\n",
       "      <td>[-242.4076, 159.22153, -36.203228, 19.764275, ...</td>\n",
       "    </tr>\n",
       "    <tr>\n",
       "      <th>11</th>\n",
       "      <td>[-221.08888, 179.47525, -66.96297, 18.535894, ...</td>\n",
       "    </tr>\n",
       "  </tbody>\n",
       "</table>\n",
       "</div>"
      ],
      "text/plain": [
       "                                              feature\n",
       "0   [-55.771942, 143.37852, -27.527369, 6.201846, ...\n",
       "1   [-246.47263, 213.21353, -12.739968, -7.456553,...\n",
       "2   [-327.6305, 100.040436, -25.603403, 6.5762205,...\n",
       "3   [-358.27808, 78.40876, -13.740558, 19.455133, ...\n",
       "4   [-623.4674, 5.8464026, -2.236528, 0.3500638, -...\n",
       "5   [-521.70294, 37.598022, -8.51969, 5.1733255, -...\n",
       "6   [-145.57077, 141.69208, -24.387417, 4.992651, ...\n",
       "7   [-248.5803, 207.66873, -6.9824514, -13.934243,...\n",
       "8   [-338.72882, 105.36056, -25.44444, 6.630378, -...\n",
       "9   [-266.22824, 136.11139, -36.28655, 49.295605, ...\n",
       "10  [-242.4076, 159.22153, -36.203228, 19.764275, ...\n",
       "11  [-221.08888, 179.47525, -66.96297, 18.535894, ..."
      ]
     },
     "execution_count": 23,
     "metadata": {},
     "output_type": "execute_result"
    }
   ],
   "source": [
    "len(ml)\n",
    "\n",
    "mfcc_all2=pd.DataFrame(ml,columns=[\"feature\"])\n",
    "mfcc_all2"
   ]
  },
  {
   "cell_type": "code",
   "execution_count": 30,
   "id": "c6a6ed3b",
   "metadata": {},
   "outputs": [],
   "source": [
    "mfcc_all2.to_csv('39+ mfccs.csv')"
   ]
  },
  {
   "cell_type": "code",
   "execution_count": 31,
   "id": "2ea27ecd",
   "metadata": {},
   "outputs": [],
   "source": [
    "sig2=pd.DataFrame(sig,columns=[\"Audio\"])\n",
    "sig2.to_csv('39+ signal.csv')\n"
   ]
  },
  {
   "cell_type": "code",
   "execution_count": null,
   "id": "fb261256",
   "metadata": {},
   "outputs": [],
   "source": [
    "s5=l[55:60]\n",
    "for i in s5:\n",
    "    print(i)\n",
    "    h,aud=mfcc_a(i)\n",
    "    ml.append([h])\n",
    "    sig.append([aud])\n",
    "    d1.append(h)\n",
    "    ps.append(aud)\n",
    "    print(len(ml))\n",
    "with open(\"mfcc2 - Copy (7)\", 'a') as the_file:\n",
    "    print(ml, file=the_file)\n"
   ]
  },
  {
   "cell_type": "code",
   "execution_count": null,
   "id": "a07b4c54",
   "metadata": {},
   "outputs": [],
   "source": [
    "sig"
   ]
  },
  {
   "cell_type": "code",
   "execution_count": null,
   "id": "740119e3",
   "metadata": {},
   "outputs": [],
   "source": [
    "ml"
   ]
  },
  {
   "cell_type": "code",
   "execution_count": null,
   "id": "91cdb67f",
   "metadata": {},
   "outputs": [],
   "source": [
    "s22=l[60:65]\n",
    "for i in s22:\n",
    "    print(i)\n",
    "    h,aud=mfcc_a(i)\n",
    "    ml.append([h])\n",
    "    sig.append([aud])\n",
    "    d1.append(h)\n",
    "    ps.append(aud)\n",
    "    print(len(ml))\n",
    "with open(\"mfcc2 - Copy (8)\", 'a') as the_file:\n",
    "    print(ml, file=the_file)\n"
   ]
  },
  {
   "cell_type": "code",
   "execution_count": null,
   "id": "d161ab31",
   "metadata": {},
   "outputs": [],
   "source": [
    "sig"
   ]
  },
  {
   "cell_type": "code",
   "execution_count": null,
   "id": "2fe7846e",
   "metadata": {},
   "outputs": [],
   "source": [
    "ml"
   ]
  },
  {
   "cell_type": "code",
   "execution_count": null,
   "id": "3dc2b37f",
   "metadata": {},
   "outputs": [],
   "source": [
    "s22=l[65:70]\n",
    "for i in s22:\n",
    "    print(i)\n",
    "    h,aud=mfcc_a(i)\n",
    "    ml.append([h])\n",
    "    sig.append([aud])\n",
    "    d1.append(h)\n",
    "    ps.append(aud)\n",
    "    print(len(ml))\n",
    "with open(\"mfcc2 - Copy (9)\", 'a') as the_file:\n",
    "    print(ml, file=the_file)\n"
   ]
  },
  {
   "cell_type": "code",
   "execution_count": null,
   "id": "8b91f14e",
   "metadata": {},
   "outputs": [],
   "source": [
    "sig"
   ]
  },
  {
   "cell_type": "code",
   "execution_count": null,
   "id": "0882adc7",
   "metadata": {},
   "outputs": [],
   "source": [
    "ml"
   ]
  },
  {
   "cell_type": "code",
   "execution_count": null,
   "id": "c98be8a2",
   "metadata": {
    "scrolled": true
   },
   "outputs": [],
   "source": [
    "s22=l[70:75]\n",
    "for i in s22:\n",
    "    print(i)\n",
    "    h,aud=mfcc_a(i)\n",
    "    ml.append([h])\n",
    "    sig.append([aud])\n",
    "    d1.append(h)\n",
    "    ps.append(aud)\n",
    "    print(len(ml))\n",
    "with open(\"mfcc2 - Copy (10)\", 'a') as the_file:\n",
    "    print(ml, file=the_file)\n",
    "print(\"\\n\")"
   ]
  },
  {
   "cell_type": "code",
   "execution_count": null,
   "id": "cd288eef",
   "metadata": {},
   "outputs": [],
   "source": [
    "sig"
   ]
  },
  {
   "cell_type": "code",
   "execution_count": null,
   "id": "8a2f0ffe",
   "metadata": {},
   "outputs": [],
   "source": [
    "s22=l[75:80]\n",
    "for i in s22:\n",
    "    print(i)\n",
    "    h,aud=mfcc_a(i)\n",
    "    ml.append([h])\n",
    "    sig.append([aud])\n",
    "    d1.append(h)\n",
    "    ps.append(aud)\n",
    "    print(len(ml))\n",
    "with open(\"mfcc2 - Copy (11)\", 'a') as the_file:\n",
    "    print(ml, file=the_file)\n",
    "print(\"\\n\")"
   ]
  },
  {
   "cell_type": "code",
   "execution_count": null,
   "id": "3617556e",
   "metadata": {},
   "outputs": [],
   "source": [
    "sig"
   ]
  },
  {
   "cell_type": "code",
   "execution_count": null,
   "id": "97b1831f",
   "metadata": {},
   "outputs": [],
   "source": [
    "ml"
   ]
  },
  {
   "cell_type": "code",
   "execution_count": null,
   "id": "3eea7f7b",
   "metadata": {},
   "outputs": [],
   "source": [
    "s22=l[80:85]\n",
    "for i in s22:\n",
    "    print(i)\n",
    "    h,aud=mfcc_a(i)\n",
    "    ml.append([h])\n",
    "    sig.append([aud])\n",
    "    d1.append(h)\n",
    "    ps.append(aud)\n",
    "    print(len(ml))\n",
    "with open(\"mfcc2 - Copy (12)\", 'a') as the_file:\n",
    "    print(ml, file=the_file)\n",
    "print(\"\\n\")"
   ]
  },
  {
   "cell_type": "code",
   "execution_count": null,
   "id": "7fc02350",
   "metadata": {},
   "outputs": [],
   "source": [
    "sig"
   ]
  },
  {
   "cell_type": "code",
   "execution_count": null,
   "id": "1a5ec0e0",
   "metadata": {},
   "outputs": [],
   "source": [
    "ml"
   ]
  },
  {
   "cell_type": "code",
   "execution_count": null,
   "id": "d46d78ec",
   "metadata": {},
   "outputs": [],
   "source": [
    "s22=l[85:90]\n",
    "for i in s22:\n",
    "    print(i)\n",
    "    h,aud=mfcc_a(i)\n",
    "    ml.append([h])\n",
    "    sig.append([aud])\n",
    "    d1.append(h)\n",
    "    ps.append(aud)\n",
    "    print(len(ml))\n",
    "with open(\"mfcc2 - Copy (13)\", 'a') as the_file:\n",
    "    print(ml, file=the_file)\n",
    "print(\"\\n\")"
   ]
  },
  {
   "cell_type": "code",
   "execution_count": null,
   "id": "b7269216",
   "metadata": {},
   "outputs": [],
   "source": [
    "sig"
   ]
  },
  {
   "cell_type": "code",
   "execution_count": null,
   "id": "f856c754",
   "metadata": {},
   "outputs": [],
   "source": [
    "ml"
   ]
  },
  {
   "cell_type": "code",
   "execution_count": null,
   "id": "269fead7",
   "metadata": {},
   "outputs": [],
   "source": [
    "len(ml)"
   ]
  },
  {
   "cell_type": "code",
   "execution_count": null,
   "id": "a65e862e",
   "metadata": {},
   "outputs": [],
   "source": [
    "ml[0].shape\n"
   ]
  },
  {
   "cell_type": "code",
   "execution_count": null,
   "id": "1b588aa5",
   "metadata": {},
   "outputs": [],
   "source": []
  },
  {
   "cell_type": "code",
   "execution_count": null,
   "id": "c70d84c7",
   "metadata": {},
   "outputs": [],
   "source": [
    "import pandas as pd"
   ]
  },
  {
   "cell_type": "code",
   "execution_count": null,
   "id": "c0b9342f",
   "metadata": {},
   "outputs": [],
   "source": [
    "mfcc_all=pd.DataFrame(ml,columns=['feature','class'])"
   ]
  },
  {
   "cell_type": "code",
   "execution_count": null,
   "id": "64441caf",
   "metadata": {},
   "outputs": [],
   "source": [
    "data=[i for i in ml]\n",
    "\n",
    "    \n",
    "    "
   ]
  },
  {
   "cell_type": "code",
   "execution_count": null,
   "id": "0e8ca1e0",
   "metadata": {},
   "outputs": [],
   "source": []
  },
  {
   "cell_type": "code",
   "execution_count": null,
   "id": "53075ee9",
   "metadata": {},
   "outputs": [],
   "source": [
    "mfcc_all=pd.DataFrame(data)"
   ]
  },
  {
   "cell_type": "code",
   "execution_count": null,
   "id": "b2da8862",
   "metadata": {},
   "outputs": [],
   "source": []
  }
 ],
 "metadata": {
  "kernelspec": {
   "display_name": "Python 3 (ipykernel)",
   "language": "python",
   "name": "python3"
  },
  "language_info": {
   "codemirror_mode": {
    "name": "ipython",
    "version": 3
   },
   "file_extension": ".py",
   "mimetype": "text/x-python",
   "name": "python",
   "nbconvert_exporter": "python",
   "pygments_lexer": "ipython3",
   "version": "3.8.8"
  }
 },
 "nbformat": 4,
 "nbformat_minor": 5
}
