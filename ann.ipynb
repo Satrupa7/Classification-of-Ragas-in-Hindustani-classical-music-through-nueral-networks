{
 "cells": [
  {
   "cell_type": "code",
   "execution_count": 1,
   "id": "683a521c",
   "metadata": {},
   "outputs": [],
   "source": [
    "# -*- coding: utf-8 -*-\n",
    "\"\"\"\n",
    "Created on Sun Feb 13 11:00:35 2022\n",
    "\n",
    "@author: mishr\n",
    "\"\"\"\n",
    "\n",
    "import numpy as np\n",
    "import pandas as pd\n",
    "\n",
    "from sklearn.model_selection import train_test_split\n",
    "import tensorflow.keras as keras\n",
    "\n",
    "X=np.array([[-130.44264  ,  124.75439  ,  -25.909184 ,   17.528477 ,\n",
    "           -6.0792623,    8.366293 ,  -14.07918  ,   -8.832988 ,\n",
    "          -21.029907 ,   -6.610254 ,   -7.63176  ,   -8.419785 ,\n",
    "           -7.9431334,   -5.044788 ],[-123.7456,122.20147,-27.748375,16.356695,-9.18547,6.205241,-14.720456,-9.045426,-21.243801,-6.2939916,-8.194044,-8.296159,-8.411134,-7.030266 ]] )\n",
    "\n",
    "y=np.array([\"Raag Bairagi\",\"Raag Aahir Bhairon\"])\n",
    "\n",
    "dfy=pd.DataFrame(y) \n",
    "\n",
    "for i in range(5):\n",
    "     dfy= dfy.append(dfy)\n",
    "     \n",
    "\n",
    "dfy.reset_index(drop=True, inplace=True)\n",
    "\n",
    "\n",
    "dfx=pd.DataFrame(X)\n",
    "\n",
    "for i in range(5):\n",
    "     dfx= dfx.append(dfx)\n",
    "     \n",
    "\n",
    "dfx.reset_index(drop=True, inplace=True)\n",
    "X = dfx.to_numpy()\n",
    "y= dfy.to_numpy()"
   ]
  },
  {
   "cell_type": "code",
   "execution_count": 2,
   "id": "fa15d7cb",
   "metadata": {},
   "outputs": [
    {
     "data": {
      "text/plain": [
       "(64, 14)"
      ]
     },
     "execution_count": 2,
     "metadata": {},
     "output_type": "execute_result"
    }
   ],
   "source": [
    "X.shape"
   ]
  },
  {
   "cell_type": "code",
   "execution_count": 3,
   "id": "edd0d03b",
   "metadata": {
    "scrolled": true
   },
   "outputs": [
    {
     "name": "stderr",
     "output_type": "stream",
     "text": [
      "C:\\Users\\mishr\\anaconda3\\lib\\site-packages\\sklearn\\preprocessing\\_label.py:115: DataConversionWarning: A column-vector y was passed when a 1d array was expected. Please change the shape of y to (n_samples, ), for example using ravel().\n",
      "  y = column_or_1d(y, warn=True)\n"
     ]
    }
   ],
   "source": [
    "from tensorflow.keras.utils import to_categorical\n",
    "from sklearn.preprocessing import LabelEncoder\n",
    "labelencoder=LabelEncoder()\n",
    "y=to_categorical(labelencoder.fit_transform(y))"
   ]
  },
  {
   "cell_type": "code",
   "execution_count": 4,
   "id": "bd9685db",
   "metadata": {
    "scrolled": true
   },
   "outputs": [
    {
     "data": {
      "text/plain": [
       "(64, 2)"
      ]
     },
     "execution_count": 4,
     "metadata": {},
     "output_type": "execute_result"
    }
   ],
   "source": [
    "y.shape"
   ]
  },
  {
   "cell_type": "code",
   "execution_count": 5,
   "id": "92d72f38",
   "metadata": {},
   "outputs": [],
   "source": [
    "yh=y.reshape(-1,1)"
   ]
  },
  {
   "cell_type": "code",
   "execution_count": 6,
   "id": "b25436f5",
   "metadata": {},
   "outputs": [],
   "source": [
    "yw=yh[0:65]"
   ]
  },
  {
   "cell_type": "code",
   "execution_count": 7,
   "id": "114f9722",
   "metadata": {},
   "outputs": [
    {
     "data": {
      "text/plain": [
       "(65, 1)"
      ]
     },
     "execution_count": 7,
     "metadata": {},
     "output_type": "execute_result"
    }
   ],
   "source": [
    "yw.shape"
   ]
  },
  {
   "cell_type": "code",
   "execution_count": 8,
   "id": "eab65287",
   "metadata": {},
   "outputs": [],
   "source": [
    "yd=pd.DataFrame(y)"
   ]
  },
  {
   "cell_type": "code",
   "execution_count": 9,
   "id": "179660c4",
   "metadata": {},
   "outputs": [
    {
     "data": {
      "text/html": [
       "<div>\n",
       "<style scoped>\n",
       "    .dataframe tbody tr th:only-of-type {\n",
       "        vertical-align: middle;\n",
       "    }\n",
       "\n",
       "    .dataframe tbody tr th {\n",
       "        vertical-align: top;\n",
       "    }\n",
       "\n",
       "    .dataframe thead th {\n",
       "        text-align: right;\n",
       "    }\n",
       "</style>\n",
       "<table border=\"1\" class=\"dataframe\">\n",
       "  <thead>\n",
       "    <tr style=\"text-align: right;\">\n",
       "      <th></th>\n",
       "      <th>0</th>\n",
       "      <th>1</th>\n",
       "    </tr>\n",
       "  </thead>\n",
       "  <tbody>\n",
       "    <tr>\n",
       "      <th>0</th>\n",
       "      <td>0.0</td>\n",
       "      <td>1.0</td>\n",
       "    </tr>\n",
       "    <tr>\n",
       "      <th>1</th>\n",
       "      <td>1.0</td>\n",
       "      <td>0.0</td>\n",
       "    </tr>\n",
       "    <tr>\n",
       "      <th>2</th>\n",
       "      <td>0.0</td>\n",
       "      <td>1.0</td>\n",
       "    </tr>\n",
       "    <tr>\n",
       "      <th>3</th>\n",
       "      <td>1.0</td>\n",
       "      <td>0.0</td>\n",
       "    </tr>\n",
       "    <tr>\n",
       "      <th>4</th>\n",
       "      <td>0.0</td>\n",
       "      <td>1.0</td>\n",
       "    </tr>\n",
       "    <tr>\n",
       "      <th>...</th>\n",
       "      <td>...</td>\n",
       "      <td>...</td>\n",
       "    </tr>\n",
       "    <tr>\n",
       "      <th>59</th>\n",
       "      <td>1.0</td>\n",
       "      <td>0.0</td>\n",
       "    </tr>\n",
       "    <tr>\n",
       "      <th>60</th>\n",
       "      <td>0.0</td>\n",
       "      <td>1.0</td>\n",
       "    </tr>\n",
       "    <tr>\n",
       "      <th>61</th>\n",
       "      <td>1.0</td>\n",
       "      <td>0.0</td>\n",
       "    </tr>\n",
       "    <tr>\n",
       "      <th>62</th>\n",
       "      <td>0.0</td>\n",
       "      <td>1.0</td>\n",
       "    </tr>\n",
       "    <tr>\n",
       "      <th>63</th>\n",
       "      <td>1.0</td>\n",
       "      <td>0.0</td>\n",
       "    </tr>\n",
       "  </tbody>\n",
       "</table>\n",
       "<p>64 rows × 2 columns</p>\n",
       "</div>"
      ],
      "text/plain": [
       "      0    1\n",
       "0   0.0  1.0\n",
       "1   1.0  0.0\n",
       "2   0.0  1.0\n",
       "3   1.0  0.0\n",
       "4   0.0  1.0\n",
       "..  ...  ...\n",
       "59  1.0  0.0\n",
       "60  0.0  1.0\n",
       "61  1.0  0.0\n",
       "62  0.0  1.0\n",
       "63  1.0  0.0\n",
       "\n",
       "[64 rows x 2 columns]"
      ]
     },
     "execution_count": 9,
     "metadata": {},
     "output_type": "execute_result"
    }
   ],
   "source": [
    "yd"
   ]
  },
  {
   "cell_type": "code",
   "execution_count": 10,
   "id": "965f3bbe",
   "metadata": {},
   "outputs": [],
   "source": [
    "yh=yd.drop(0,axis=1)"
   ]
  },
  {
   "cell_type": "code",
   "execution_count": 11,
   "id": "14fd2d62",
   "metadata": {},
   "outputs": [],
   "source": [
    "yu=yh.to_numpy()"
   ]
  },
  {
   "cell_type": "code",
   "execution_count": 12,
   "id": "9237157e",
   "metadata": {},
   "outputs": [
    {
     "data": {
      "text/plain": [
       "(64, 1)"
      ]
     },
     "execution_count": 12,
     "metadata": {},
     "output_type": "execute_result"
    }
   ],
   "source": [
    "yu.shape"
   ]
  },
  {
   "cell_type": "code",
   "execution_count": 13,
   "id": "1f4e7d77",
   "metadata": {},
   "outputs": [],
   "source": [
    "y=yu"
   ]
  },
  {
   "cell_type": "code",
   "execution_count": 14,
   "id": "22e7b707",
   "metadata": {},
   "outputs": [
    {
     "name": "stdout",
     "output_type": "stream",
     "text": [
      "Model: \"sequential\"\n",
      "_________________________________________________________________\n",
      " Layer (type)                Output Shape              Param #   \n",
      "=================================================================\n",
      " flatten (Flatten)           (None, 14)                0         \n",
      "                                                                 \n",
      " dense (Dense)               (None, 512)               7680      \n",
      "                                                                 \n",
      " dense_1 (Dense)             (None, 256)               131328    \n",
      "                                                                 \n",
      " dense_2 (Dense)             (None, 64)                16448     \n",
      "                                                                 \n",
      " dense_3 (Dense)             (None, 2)                 130       \n",
      "                                                                 \n",
      "=================================================================\n",
      "Total params: 155,586\n",
      "Trainable params: 155,586\n",
      "Non-trainable params: 0\n",
      "_________________________________________________________________\n",
      "Epoch 1/50\n",
      "2/2 [==============================] - 1s 139ms/step - loss: 1.5005 - accuracy: 0.4318 - val_loss: 1.6711 - val_accuracy: 0.3500\n",
      "Epoch 2/50\n",
      "2/2 [==============================] - 0s 36ms/step - loss: 1.1969 - accuracy: 0.5682 - val_loss: 1.5785 - val_accuracy: 0.3500\n",
      "Epoch 3/50\n",
      "2/2 [==============================] - 0s 31ms/step - loss: 0.9554 - accuracy: 0.5682 - val_loss: 0.6460 - val_accuracy: 0.6500\n",
      "Epoch 4/50\n",
      "2/2 [==============================] - 0s 29ms/step - loss: 0.6976 - accuracy: 0.4318 - val_loss: 0.7285 - val_accuracy: 0.6500\n",
      "Epoch 5/50\n",
      "2/2 [==============================] - 0s 29ms/step - loss: 1.0748 - accuracy: 0.4318 - val_loss: 0.6278 - val_accuracy: 0.6500\n",
      "Epoch 6/50\n",
      "2/2 [==============================] - 0s 27ms/step - loss: 0.7815 - accuracy: 0.4318 - val_loss: 0.8035 - val_accuracy: 0.3500\n",
      "Epoch 7/50\n",
      "2/2 [==============================] - 0s 34ms/step - loss: 0.7332 - accuracy: 0.5682 - val_loss: 1.2190 - val_accuracy: 0.3500\n",
      "Epoch 8/50\n",
      "2/2 [==============================] - 0s 29ms/step - loss: 0.8512 - accuracy: 0.5682 - val_loss: 0.9665 - val_accuracy: 0.3500\n",
      "Epoch 9/50\n",
      "2/2 [==============================] - 0s 34ms/step - loss: 0.7023 - accuracy: 0.5682 - val_loss: 0.6214 - val_accuracy: 1.0000\n",
      "Epoch 10/50\n",
      "2/2 [==============================] - 0s 33ms/step - loss: 0.6315 - accuracy: 0.8636 - val_loss: 0.5786 - val_accuracy: 0.6500\n",
      "Epoch 11/50\n",
      "2/2 [==============================] - 0s 36ms/step - loss: 0.7285 - accuracy: 0.4318 - val_loss: 0.5692 - val_accuracy: 0.6500\n",
      "Epoch 12/50\n",
      "2/2 [==============================] - 0s 30ms/step - loss: 0.6680 - accuracy: 0.5682 - val_loss: 0.6396 - val_accuracy: 0.3500\n",
      "Epoch 13/50\n",
      "2/2 [==============================] - 0s 30ms/step - loss: 0.5825 - accuracy: 0.5682 - val_loss: 0.8205 - val_accuracy: 0.3500\n",
      "Epoch 14/50\n",
      "2/2 [==============================] - 0s 32ms/step - loss: 0.6767 - accuracy: 0.5682 - val_loss: 0.8533 - val_accuracy: 0.3500\n",
      "Epoch 15/50\n",
      "2/2 [==============================] - 0s 25ms/step - loss: 0.6591 - accuracy: 0.5682 - val_loss: 0.6256 - val_accuracy: 0.3500\n",
      "Epoch 16/50\n",
      "2/2 [==============================] - 0s 28ms/step - loss: 0.5815 - accuracy: 0.6818 - val_loss: 0.5532 - val_accuracy: 1.0000\n",
      "Epoch 17/50\n",
      "2/2 [==============================] - 0s 32ms/step - loss: 0.5963 - accuracy: 1.0000 - val_loss: 0.5513 - val_accuracy: 1.0000\n",
      "Epoch 18/50\n",
      "2/2 [==============================] - 0s 24ms/step - loss: 0.5839 - accuracy: 1.0000 - val_loss: 0.5931 - val_accuracy: 1.0000\n",
      "Epoch 19/50\n",
      "2/2 [==============================] - 0s 24ms/step - loss: 0.5565 - accuracy: 0.9091 - val_loss: 0.6547 - val_accuracy: 0.3500\n",
      "Epoch 20/50\n",
      "2/2 [==============================] - 0s 24ms/step - loss: 0.5706 - accuracy: 0.5682 - val_loss: 0.6496 - val_accuracy: 0.3500\n",
      "Epoch 21/50\n",
      "2/2 [==============================] - 0s 32ms/step - loss: 0.5540 - accuracy: 0.6818 - val_loss: 0.5555 - val_accuracy: 1.0000\n",
      "Epoch 22/50\n",
      "2/2 [==============================] - 0s 33ms/step - loss: 0.5420 - accuracy: 1.0000 - val_loss: 0.5231 - val_accuracy: 1.0000\n",
      "Epoch 23/50\n",
      "2/2 [==============================] - 0s 28ms/step - loss: 0.5493 - accuracy: 1.0000 - val_loss: 0.5398 - val_accuracy: 1.0000\n",
      "Epoch 24/50\n",
      "2/2 [==============================] - 0s 30ms/step - loss: 0.5284 - accuracy: 1.0000 - val_loss: 0.6198 - val_accuracy: 0.3500\n",
      "Epoch 25/50\n",
      "2/2 [==============================] - 0s 29ms/step - loss: 0.5298 - accuracy: 0.5682 - val_loss: 0.6418 - val_accuracy: 0.3500\n",
      "Epoch 26/50\n",
      "2/2 [==============================] - 0s 22ms/step - loss: 0.5326 - accuracy: 0.5682 - val_loss: 0.5839 - val_accuracy: 0.3500\n",
      "Epoch 27/50\n",
      "2/2 [==============================] - 0s 33ms/step - loss: 0.5093 - accuracy: 0.7500 - val_loss: 0.5078 - val_accuracy: 1.0000\n",
      "Epoch 28/50\n",
      "2/2 [==============================] - 0s 34ms/step - loss: 0.5122 - accuracy: 1.0000 - val_loss: 0.4731 - val_accuracy: 1.0000\n",
      "Epoch 29/50\n",
      "2/2 [==============================] - 0s 28ms/step - loss: 0.5235 - accuracy: 1.0000 - val_loss: 0.5008 - val_accuracy: 1.0000\n",
      "Epoch 30/50\n",
      "2/2 [==============================] - 0s 26ms/step - loss: 0.4855 - accuracy: 1.0000 - val_loss: 0.6040 - val_accuracy: 0.3500\n",
      "Epoch 31/50\n",
      "2/2 [==============================] - 0s 30ms/step - loss: 0.5208 - accuracy: 0.5682 - val_loss: 0.5908 - val_accuracy: 0.3500\n",
      "Epoch 32/50\n",
      "2/2 [==============================] - 0s 19ms/step - loss: 0.4829 - accuracy: 0.7045 - val_loss: 0.4590 - val_accuracy: 1.0000\n",
      "Epoch 33/50\n",
      "2/2 [==============================] - 0s 18ms/step - loss: 0.4929 - accuracy: 1.0000 - val_loss: 0.4405 - val_accuracy: 1.0000\n",
      "Epoch 34/50\n",
      "2/2 [==============================] - 0s 25ms/step - loss: 0.4953 - accuracy: 1.0000 - val_loss: 0.4892 - val_accuracy: 1.0000\n",
      "Epoch 35/50\n",
      "2/2 [==============================] - 0s 24ms/step - loss: 0.4603 - accuracy: 0.8864 - val_loss: 0.6211 - val_accuracy: 0.3500\n",
      "Epoch 36/50\n",
      "2/2 [==============================] - 0s 25ms/step - loss: 0.4907 - accuracy: 0.5682 - val_loss: 0.5632 - val_accuracy: 0.3500\n",
      "Epoch 37/50\n",
      "2/2 [==============================] - 0s 22ms/step - loss: 0.4736 - accuracy: 0.6364 - val_loss: 0.4526 - val_accuracy: 1.0000\n",
      "Epoch 38/50\n",
      "2/2 [==============================] - 0s 27ms/step - loss: 0.4425 - accuracy: 1.0000 - val_loss: 0.4356 - val_accuracy: 1.0000\n",
      "Epoch 39/50\n",
      "2/2 [==============================] - 0s 28ms/step - loss: 0.4419 - accuracy: 1.0000 - val_loss: 0.4462 - val_accuracy: 1.0000\n",
      "Epoch 40/50\n",
      "2/2 [==============================] - 0s 27ms/step - loss: 0.4283 - accuracy: 1.0000 - val_loss: 0.4491 - val_accuracy: 1.0000\n",
      "Epoch 41/50\n",
      "2/2 [==============================] - 0s 16ms/step - loss: 0.4217 - accuracy: 1.0000 - val_loss: 0.4650 - val_accuracy: 1.0000\n",
      "Epoch 42/50\n",
      "2/2 [==============================] - 0s 31ms/step - loss: 0.4200 - accuracy: 1.0000 - val_loss: 0.4637 - val_accuracy: 1.0000\n",
      "Epoch 43/50\n",
      "2/2 [==============================] - 0s 24ms/step - loss: 0.4152 - accuracy: 1.0000 - val_loss: 0.4269 - val_accuracy: 1.0000\n",
      "Epoch 44/50\n",
      "2/2 [==============================] - 0s 23ms/step - loss: 0.4064 - accuracy: 1.0000 - val_loss: 0.4115 - val_accuracy: 1.0000\n",
      "Epoch 45/50\n",
      "2/2 [==============================] - 0s 23ms/step - loss: 0.4005 - accuracy: 1.0000 - val_loss: 0.3947 - val_accuracy: 1.0000\n",
      "Epoch 46/50\n",
      "2/2 [==============================] - 0s 23ms/step - loss: 0.4004 - accuracy: 1.0000 - val_loss: 0.3947 - val_accuracy: 1.0000\n",
      "Epoch 47/50\n",
      "2/2 [==============================] - 0s 27ms/step - loss: 0.3907 - accuracy: 1.0000 - val_loss: 0.4018 - val_accuracy: 1.0000\n",
      "Epoch 48/50\n",
      "2/2 [==============================] - 0s 18ms/step - loss: 0.3819 - accuracy: 1.0000 - val_loss: 0.4303 - val_accuracy: 1.0000\n",
      "Epoch 49/50\n",
      "2/2 [==============================] - 0s 22ms/step - loss: 0.3801 - accuracy: 1.0000 - val_loss: 0.4450 - val_accuracy: 1.0000\n",
      "Epoch 50/50\n",
      "2/2 [==============================] - 0s 32ms/step - loss: 0.3802 - accuracy: 1.0000 - val_loss: 0.4150 - val_accuracy: 1.0000\n"
     ]
    }
   ],
   "source": [
    "if __name__ == \"__main__\":\n",
    "\n",
    "\n",
    "    # create train/test split\n",
    "    X_train, X_test, y_train, y_test = train_test_split(X, y, test_size=0.3)\n",
    "\n",
    "    # build network topology\n",
    "    model = keras.Sequential([\n",
    "\n",
    "        # input layer\n",
    "        keras.layers.Flatten(input_shape=(14,)),\n",
    "\n",
    "        # 1st dense layer\n",
    "        keras.layers.Dense(512, activation='relu'),\n",
    "\n",
    "        # 2nd dense layer\n",
    "        keras.layers.Dense(256, activation='relu'),\n",
    "\n",
    "        # 3rd dense layer\n",
    "        keras.layers.Dense(64, activation='relu'),\n",
    "\n",
    "        # output layer\n",
    "        keras.layers.Dense(2, activation='softmax')\n",
    "    ])\n",
    "\n",
    "    # compile model\n",
    "    optimiser = keras.optimizers.Adam(learning_rate=0.0001)\n",
    "    model.compile(optimizer=optimiser,\n",
    "                  loss='sparse_categorical_crossentropy',\n",
    "                  metrics=['accuracy'])\n",
    "\n",
    "    model.summary()\n",
    "\n",
    "    # train model\n",
    "    history = model.fit(X_train, y_train, validation_data=(X_test, y_test), batch_size=32, epochs=50)"
   ]
  }
 ],
 "metadata": {
  "kernelspec": {
   "display_name": "Python 3 (ipykernel)",
   "language": "python",
   "name": "python3"
  },
  "language_info": {
   "codemirror_mode": {
    "name": "ipython",
    "version": 3
   },
   "file_extension": ".py",
   "mimetype": "text/x-python",
   "name": "python",
   "nbconvert_exporter": "python",
   "pygments_lexer": "ipython3",
   "version": "3.8.8"
  }
 },
 "nbformat": 4,
 "nbformat_minor": 5
}
