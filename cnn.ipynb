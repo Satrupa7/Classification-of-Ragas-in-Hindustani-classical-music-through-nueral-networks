{
 "cells": [
  {
   "cell_type": "code",
   "execution_count": 1,
   "id": "bf1d3049",
   "metadata": {
    "scrolled": true
   },
   "outputs": [
    {
     "data": {
      "text/plain": [
       "'  dfy=pd.DataFrame(y)\\n\\nfor i in range(5):\\n     dfy= dfy.append(dfy)\\n     \\n\\ndfy.reset_index(drop=True, inplace=True)\\n\\n\\ndfx=pd.DataFrame(X)\\n\\nfor i in range(5):\\n     dfx= dfx.append(dfx)\\n     \\n\\ndfx.reset_index(drop=True, inplace=True)\\nX = dfx.to_numpy()\\ny= dfy.to_numpy() '"
      ]
     },
     "execution_count": 1,
     "metadata": {},
     "output_type": "execute_result"
    }
   ],
   "source": [
    "# -*- coding: utf-8 -*-\n",
    "\"\"\"\n",
    "Created on Sun Feb 13 11:00:35 2022\n",
    "\n",
    "@author: mishr\n",
    "\"\"\"\n",
    "\n",
    "import numpy as np\n",
    "import pandas as pd\n",
    "\n",
    "from sklearn.model_selection import train_test_split\n",
    "import tensorflow.keras as keras\n",
    "\n",
    "import numpy as np\n",
    "X=np.array([[[-130.44264  ,  124.75439  ,  -25.909184 ,   17.528477 ,\n",
    "           -6.0792623,    8.366293 ,  -14.07918  ],[  -8.832988 ,\n",
    "          -21.029907 ,   -6.610254 ,   -7.63176  ,   -8.419785 ,\n",
    "           -7.9431334,   -5.044788 ]],[[-123.7456,122.20147,-27.748375,16.356695,-9.18547,6.205241,-14.720456],[-9.045426,-21.243801,-6.2939916,-8.194044,-8.296159,-8.411134,-7.030266 ]],[[-130.44264  ,  124.75439  ,  -25.909184 ,   17.528477 ,\n",
    "                      -6.0792623,    8.366293 ,  -14.07918  ],[  -8.832988 ,\n",
    "                     -21.029907 ,   -6.610254 ,   -7.63176  ,   -8.419785 ,\n",
    "                      -7.9431334,   -5.044788 ]],[[-123.7456,122.20147,-27.748375,16.356695,-9.18547,6.205241,-14.720456],[-9.045426,-21.243801,-6.2939916,-8.194044,-8.296159,-8.411134,-7.030266 ]],[[-130.44264  ,  124.75439  ,  -25.909184 ,   17.528477 ,\n",
    "                                 -6.0792623,    8.366293 ,  -14.07918  ],[  -8.832988 ,\n",
    "                                -21.029907 ,   -6.610254 ,   -7.63176  ,   -8.419785 ,\n",
    "                                 -7.9431334,   -5.044788 ]],[[-123.7456,122.20147,-27.748375,16.356695,-9.18547,6.205241,-14.720456],[-9.045426,-21.243801,-6.2939916,-8.194044,-8.296159,-8.411134,-7.030266 ]],[[-130.44264  ,  124.75439  ,  -25.909184 ,   17.528477 ,\n",
    "                                            -6.0792623,    8.366293 ,  -14.07918  ],[  -8.832988 ,\n",
    "                                           -21.029907 ,   -6.610254 ,   -7.63176  ,   -8.419785 ,\n",
    "                                            -7.9431334,   -5.044788 ]],[[-123.7456,122.20147,-27.748375,16.356695,-9.18547,6.205241,-14.720456],[-9.045426,-21.243801,-6.2939916,-8.194044,-8.296159,-8.411134,-7.030266 ]]] )\n",
    "\n",
    "y=np.array([\"Raag Bairagi\",\"Raag Aahir Bhairon\",\"Raag Bairagi\",\"Raag Aahir Bhairon\",\"Raag Bairagi\",\"Raag Aahir Bhairon\",\"Raag Bairagi\",\"Raag Aahir Bhairon\"])\n",
    "\n",
    "\n",
    "\n",
    "\n",
    "\"\"\"  dfy=pd.DataFrame(y)\n",
    "\n",
    "for i in range(5):\n",
    "     dfy= dfy.append(dfy)\n",
    "     \n",
    "\n",
    "dfy.reset_index(drop=True, inplace=True)\n",
    "\n",
    "\n",
    "dfx=pd.DataFrame(X)\n",
    "\n",
    "for i in range(5):\n",
    "     dfx= dfx.append(dfx)\n",
    "     \n",
    "\n",
    "dfx.reset_index(drop=True, inplace=True)\n",
    "X = dfx.to_numpy()\n",
    "y= dfy.to_numpy() \"\"\"\n"
   ]
  },
  {
   "cell_type": "code",
   "execution_count": 23,
   "id": "048013e1",
   "metadata": {},
   "outputs": [],
   "source": [
    "import matplotlib.pyplot as plt"
   ]
  },
  {
   "cell_type": "code",
   "execution_count": 2,
   "id": "f71a1054",
   "metadata": {},
   "outputs": [
    {
     "data": {
      "text/plain": [
       "array([[[-130.44264  ,  124.75439  ,  -25.909184 ,   17.528477 ,\n",
       "           -6.0792623,    8.366293 ,  -14.07918  ],\n",
       "        [  -8.832988 ,  -21.029907 ,   -6.610254 ,   -7.63176  ,\n",
       "           -8.419785 ,   -7.9431334,   -5.044788 ]],\n",
       "\n",
       "       [[-123.7456   ,  122.20147  ,  -27.748375 ,   16.356695 ,\n",
       "           -9.18547  ,    6.205241 ,  -14.720456 ],\n",
       "        [  -9.045426 ,  -21.243801 ,   -6.2939916,   -8.194044 ,\n",
       "           -8.296159 ,   -8.411134 ,   -7.030266 ]],\n",
       "\n",
       "       [[-130.44264  ,  124.75439  ,  -25.909184 ,   17.528477 ,\n",
       "           -6.0792623,    8.366293 ,  -14.07918  ],\n",
       "        [  -8.832988 ,  -21.029907 ,   -6.610254 ,   -7.63176  ,\n",
       "           -8.419785 ,   -7.9431334,   -5.044788 ]],\n",
       "\n",
       "       [[-123.7456   ,  122.20147  ,  -27.748375 ,   16.356695 ,\n",
       "           -9.18547  ,    6.205241 ,  -14.720456 ],\n",
       "        [  -9.045426 ,  -21.243801 ,   -6.2939916,   -8.194044 ,\n",
       "           -8.296159 ,   -8.411134 ,   -7.030266 ]],\n",
       "\n",
       "       [[-130.44264  ,  124.75439  ,  -25.909184 ,   17.528477 ,\n",
       "           -6.0792623,    8.366293 ,  -14.07918  ],\n",
       "        [  -8.832988 ,  -21.029907 ,   -6.610254 ,   -7.63176  ,\n",
       "           -8.419785 ,   -7.9431334,   -5.044788 ]],\n",
       "\n",
       "       [[-123.7456   ,  122.20147  ,  -27.748375 ,   16.356695 ,\n",
       "           -9.18547  ,    6.205241 ,  -14.720456 ],\n",
       "        [  -9.045426 ,  -21.243801 ,   -6.2939916,   -8.194044 ,\n",
       "           -8.296159 ,   -8.411134 ,   -7.030266 ]],\n",
       "\n",
       "       [[-130.44264  ,  124.75439  ,  -25.909184 ,   17.528477 ,\n",
       "           -6.0792623,    8.366293 ,  -14.07918  ],\n",
       "        [  -8.832988 ,  -21.029907 ,   -6.610254 ,   -7.63176  ,\n",
       "           -8.419785 ,   -7.9431334,   -5.044788 ]],\n",
       "\n",
       "       [[-123.7456   ,  122.20147  ,  -27.748375 ,   16.356695 ,\n",
       "           -9.18547  ,    6.205241 ,  -14.720456 ],\n",
       "        [  -9.045426 ,  -21.243801 ,   -6.2939916,   -8.194044 ,\n",
       "           -8.296159 ,   -8.411134 ,   -7.030266 ]]])"
      ]
     },
     "execution_count": 2,
     "metadata": {},
     "output_type": "execute_result"
    }
   ],
   "source": [
    "X"
   ]
  },
  {
   "cell_type": "code",
   "execution_count": 3,
   "id": "75442222",
   "metadata": {},
   "outputs": [
    {
     "data": {
      "text/plain": [
       "(8, 2, 7)"
      ]
     },
     "execution_count": 3,
     "metadata": {},
     "output_type": "execute_result"
    }
   ],
   "source": [
    "X.shape"
   ]
  },
  {
   "cell_type": "code",
   "execution_count": 4,
   "id": "37a59f42",
   "metadata": {
    "scrolled": true
   },
   "outputs": [],
   "source": [
    "from tensorflow.keras.utils import to_categorical\n",
    "from sklearn.preprocessing import LabelEncoder\n",
    "labelencoder=LabelEncoder()\n",
    "y=to_categorical(labelencoder.fit_transform(y))"
   ]
  },
  {
   "cell_type": "code",
   "execution_count": 5,
   "id": "6f86cfdf",
   "metadata": {},
   "outputs": [
    {
     "data": {
      "text/plain": [
       "(8, 2)"
      ]
     },
     "execution_count": 5,
     "metadata": {},
     "output_type": "execute_result"
    }
   ],
   "source": [
    "y.shape"
   ]
  },
  {
   "cell_type": "code",
   "execution_count": 6,
   "id": "d3eb2125",
   "metadata": {},
   "outputs": [],
   "source": [
    "yh=y.reshape(-1,1)"
   ]
  },
  {
   "cell_type": "code",
   "execution_count": 7,
   "id": "013c5985",
   "metadata": {},
   "outputs": [],
   "source": [
    "yw=yh[0:64]"
   ]
  },
  {
   "cell_type": "code",
   "execution_count": 8,
   "id": "d9df3783",
   "metadata": {},
   "outputs": [
    {
     "data": {
      "text/plain": [
       "(16, 1)"
      ]
     },
     "execution_count": 8,
     "metadata": {},
     "output_type": "execute_result"
    }
   ],
   "source": [
    "yw.shape"
   ]
  },
  {
   "cell_type": "code",
   "execution_count": 9,
   "id": "c999f5ea",
   "metadata": {},
   "outputs": [],
   "source": [
    "yd=pd.DataFrame(y)"
   ]
  },
  {
   "cell_type": "code",
   "execution_count": 10,
   "id": "80396022",
   "metadata": {},
   "outputs": [
    {
     "data": {
      "text/html": [
       "<div>\n",
       "<style scoped>\n",
       "    .dataframe tbody tr th:only-of-type {\n",
       "        vertical-align: middle;\n",
       "    }\n",
       "\n",
       "    .dataframe tbody tr th {\n",
       "        vertical-align: top;\n",
       "    }\n",
       "\n",
       "    .dataframe thead th {\n",
       "        text-align: right;\n",
       "    }\n",
       "</style>\n",
       "<table border=\"1\" class=\"dataframe\">\n",
       "  <thead>\n",
       "    <tr style=\"text-align: right;\">\n",
       "      <th></th>\n",
       "      <th>0</th>\n",
       "      <th>1</th>\n",
       "    </tr>\n",
       "  </thead>\n",
       "  <tbody>\n",
       "    <tr>\n",
       "      <th>0</th>\n",
       "      <td>0.0</td>\n",
       "      <td>1.0</td>\n",
       "    </tr>\n",
       "    <tr>\n",
       "      <th>1</th>\n",
       "      <td>1.0</td>\n",
       "      <td>0.0</td>\n",
       "    </tr>\n",
       "    <tr>\n",
       "      <th>2</th>\n",
       "      <td>0.0</td>\n",
       "      <td>1.0</td>\n",
       "    </tr>\n",
       "    <tr>\n",
       "      <th>3</th>\n",
       "      <td>1.0</td>\n",
       "      <td>0.0</td>\n",
       "    </tr>\n",
       "    <tr>\n",
       "      <th>4</th>\n",
       "      <td>0.0</td>\n",
       "      <td>1.0</td>\n",
       "    </tr>\n",
       "    <tr>\n",
       "      <th>5</th>\n",
       "      <td>1.0</td>\n",
       "      <td>0.0</td>\n",
       "    </tr>\n",
       "    <tr>\n",
       "      <th>6</th>\n",
       "      <td>0.0</td>\n",
       "      <td>1.0</td>\n",
       "    </tr>\n",
       "    <tr>\n",
       "      <th>7</th>\n",
       "      <td>1.0</td>\n",
       "      <td>0.0</td>\n",
       "    </tr>\n",
       "  </tbody>\n",
       "</table>\n",
       "</div>"
      ],
      "text/plain": [
       "     0    1\n",
       "0  0.0  1.0\n",
       "1  1.0  0.0\n",
       "2  0.0  1.0\n",
       "3  1.0  0.0\n",
       "4  0.0  1.0\n",
       "5  1.0  0.0\n",
       "6  0.0  1.0\n",
       "7  1.0  0.0"
      ]
     },
     "execution_count": 10,
     "metadata": {},
     "output_type": "execute_result"
    }
   ],
   "source": [
    "yd"
   ]
  },
  {
   "cell_type": "code",
   "execution_count": 11,
   "id": "b472970b",
   "metadata": {},
   "outputs": [],
   "source": [
    "yh=yd.drop(0,axis=1)"
   ]
  },
  {
   "cell_type": "code",
   "execution_count": 12,
   "id": "76d1fda5",
   "metadata": {},
   "outputs": [],
   "source": [
    "yu=yh.to_numpy()"
   ]
  },
  {
   "cell_type": "code",
   "execution_count": 13,
   "id": "e76f02be",
   "metadata": {
    "scrolled": true
   },
   "outputs": [
    {
     "data": {
      "text/plain": [
       "(8, 1)"
      ]
     },
     "execution_count": 13,
     "metadata": {},
     "output_type": "execute_result"
    }
   ],
   "source": [
    "yu.shape"
   ]
  },
  {
   "cell_type": "code",
   "execution_count": 14,
   "id": "6d7ca1cf",
   "metadata": {},
   "outputs": [],
   "source": [
    "y=yu"
   ]
  },
  {
   "cell_type": "code",
   "execution_count": 15,
   "id": "abe0b5c4",
   "metadata": {},
   "outputs": [],
   "source": [
    "########## CNN  ##########"
   ]
  },
  {
   "cell_type": "code",
   "execution_count": 16,
   "id": "1346118d",
   "metadata": {},
   "outputs": [],
   "source": [
    "def prepare_datasets(test_size, validation_size):\n",
    "    \n",
    "    \n",
    "    # create train, validation and test split\n",
    "    X_train, X_test, y_train, y_test = train_test_split(X, y, test_size=test_size)\n",
    "    X_train, X_validation, y_train, y_validation = train_test_split(X_train, y_train, test_size=validation_size)\n",
    "\n",
    "    # add an axis to input sets\n",
    "    X_train = X_train[..., np.newaxis]\n",
    "    X_validation = X_validation[..., np.newaxis]\n",
    "    X_test = X_test[..., np.newaxis]\n",
    "    \n",
    "    \n",
    "    \n",
    "    return X_train, X_validation, X_test, y_train, y_validation, y_test"
   ]
  },
  {
   "cell_type": "code",
   "execution_count": null,
   "id": "d49a4741",
   "metadata": {},
   "outputs": [],
   "source": []
  },
  {
   "cell_type": "code",
   "execution_count": 17,
   "id": "db0b19ee",
   "metadata": {},
   "outputs": [],
   "source": [
    "\n",
    "def build_model(input_shape):\n",
    "    \n",
    "\n",
    "    # build network topology\n",
    "    model = keras.Sequential()\n",
    "    \n",
    "    # 1st conv layer\n",
    "    model.add(keras.layers.Conv2D(32, (1, 1), activation='relu', input_shape=input_shape))###change h kuki kam dim h x me\n",
    "    model.add(keras.layers.MaxPooling2D((1, 1), strides=(2, 2), padding='same'))\n",
    "    model.add(keras.layers.BatchNormalization())\n",
    "\n",
    "    # 2nd conv layer\n",
    "    model.add(keras.layers.Conv2D(32, (1, 1), activation='relu'))\n",
    "    model.add(keras.layers.MaxPooling2D((1, 1), strides=(2, 2), padding='same'))\n",
    "    model.add(keras.layers.BatchNormalization())\n",
    "\n",
    "    # 3rd conv layer\n",
    "    model.add(keras.layers.Conv2D(32, (1, 1), activation='relu'))\n",
    "    model.add(keras.layers.MaxPooling2D((1, 1), strides=(2, 2), padding='same'))\n",
    "    model.add(keras.layers.BatchNormalization())\n",
    "\n",
    "    # flatten output and feed it into dense layer\n",
    "    model.add(keras.layers.Flatten())\n",
    "    model.add(keras.layers.Dense(64, activation='relu'))\n",
    "    model.add(keras.layers.Dropout(0.3))\n",
    "\n",
    "    # output layer\n",
    "    model.add(keras.layers.Dense(2, activation='softmax'))\n",
    "\n",
    "    return model\n"
   ]
  },
  {
   "cell_type": "code",
   "execution_count": 18,
   "id": "effd8ec7",
   "metadata": {},
   "outputs": [],
   "source": [
    "def predict(model, X, y):\n",
    "\n",
    "\n",
    "    # add a dimension to input data for sample - model.predict() expects a 4d array in this case\n",
    "    X = X[np.newaxis, ...] # array shape (1, 130, 13, 1)  (1, 64, 14, 1)\n",
    "\n",
    "    # perform prediction\n",
    "    prediction = model.predict(X)\n",
    "\n",
    "    # get index with max value\n",
    "    predicted_index = np.argmax(prediction, axis=1)\n",
    "\n",
    "    print(\"Target: {}, Predicted label: {}\".format(y, predicted_index))"
   ]
  },
  {
   "cell_type": "code",
   "execution_count": 19,
   "id": "ddc89143",
   "metadata": {
    "scrolled": false
   },
   "outputs": [
    {
     "data": {
      "text/plain": [
       "(2, 7)"
      ]
     },
     "execution_count": 19,
     "metadata": {},
     "output_type": "execute_result"
    }
   ],
   "source": [
    "X[0].shape"
   ]
  },
  {
   "cell_type": "code",
   "execution_count": 20,
   "id": "48a5c774",
   "metadata": {},
   "outputs": [
    {
     "ename": "NameError",
     "evalue": "name 'X_train' is not defined",
     "output_type": "error",
     "traceback": [
      "\u001b[1;31m---------------------------------------------------------------------------\u001b[0m",
      "\u001b[1;31mNameError\u001b[0m                                 Traceback (most recent call last)",
      "\u001b[1;32m~\\AppData\\Local\\Temp/ipykernel_18040/3920528889.py\u001b[0m in \u001b[0;36m<module>\u001b[1;34m\u001b[0m\n\u001b[1;32m----> 1\u001b[1;33m \u001b[0mX_train\u001b[0m\u001b[1;33m[\u001b[0m\u001b[1;36m0\u001b[0m\u001b[1;33m]\u001b[0m\u001b[1;33m.\u001b[0m\u001b[0mshape\u001b[0m\u001b[1;33m\u001b[0m\u001b[1;33m\u001b[0m\u001b[0m\n\u001b[0m",
      "\u001b[1;31mNameError\u001b[0m: name 'X_train' is not defined"
     ]
    }
   ],
   "source": [
    "X_train[0].shape"
   ]
  },
  {
   "cell_type": "code",
   "execution_count": null,
   "id": "ff9958d8",
   "metadata": {},
   "outputs": [],
   "source": [
    "y.shape"
   ]
  },
  {
   "cell_type": "code",
   "execution_count": null,
   "id": "93c56920",
   "metadata": {},
   "outputs": [],
   "source": [
    "y_train.shape"
   ]
  },
  {
   "cell_type": "code",
   "execution_count": null,
   "id": "bd94433a",
   "metadata": {},
   "outputs": [],
   "source": [
    "X_train.shape"
   ]
  },
  {
   "cell_type": "code",
   "execution_count": 21,
   "id": "43350bd8",
   "metadata": {},
   "outputs": [],
   "source": [
    "\n",
    "def plot_history(history):\n",
    "    \"\"\"Plots accuracy/loss for training/validation set as a function of the epochs\n",
    "        :param history: Training history of model\n",
    "        :return:\n",
    "    \"\"\"\n",
    "\n",
    "    fig, axs = plt.subplots(2)\n",
    "\n",
    "    # create accuracy sublpot\n",
    "    axs[0].plot(history.history[\"accuracy\"], label=\"train accuracy\")\n",
    "    axs[0].plot(history.history[\"val_accuracy\"], label=\"test accuracy\")\n",
    "    axs[0].set_ylabel(\"Accuracy\")\n",
    "    axs[0].legend(loc=\"lower right\")\n",
    "    axs[0].set_title(\"Accuracy eval\")\n",
    "\n",
    "    # create error sublpot\n",
    "    axs[1].plot(history.history[\"loss\"], label=\"train error\")\n",
    "    axs[1].plot(history.history[\"val_loss\"], label=\"test error\")\n",
    "    axs[1].set_ylabel(\"Error\")\n",
    "    axs[1].set_xlabel(\"Epoch\")\n",
    "    axs[1].legend(loc=\"upper right\")\n",
    "    axs[1].set_title(\"Error eval\")\n",
    "\n",
    "    plt.show()"
   ]
  },
  {
   "cell_type": "code",
   "execution_count": 24,
   "id": "eacf025e",
   "metadata": {},
   "outputs": [
    {
     "name": "stdout",
     "output_type": "stream",
     "text": [
      "Model: \"sequential_1\"\n",
      "_________________________________________________________________\n",
      " Layer (type)                Output Shape              Param #   \n",
      "=================================================================\n",
      " conv2d_3 (Conv2D)           (None, 2, 7, 32)          64        \n",
      "                                                                 \n",
      " max_pooling2d_3 (MaxPooling  (None, 1, 4, 32)         0         \n",
      " 2D)                                                             \n",
      "                                                                 \n",
      " batch_normalization_3 (Batc  (None, 1, 4, 32)         128       \n",
      " hNormalization)                                                 \n",
      "                                                                 \n",
      " conv2d_4 (Conv2D)           (None, 1, 4, 32)          1056      \n",
      "                                                                 \n",
      " max_pooling2d_4 (MaxPooling  (None, 1, 2, 32)         0         \n",
      " 2D)                                                             \n",
      "                                                                 \n",
      " batch_normalization_4 (Batc  (None, 1, 2, 32)         128       \n",
      " hNormalization)                                                 \n",
      "                                                                 \n",
      " conv2d_5 (Conv2D)           (None, 1, 2, 32)          1056      \n",
      "                                                                 \n",
      " max_pooling2d_5 (MaxPooling  (None, 1, 1, 32)         0         \n",
      " 2D)                                                             \n",
      "                                                                 \n",
      " batch_normalization_5 (Batc  (None, 1, 1, 32)         128       \n",
      " hNormalization)                                                 \n",
      "                                                                 \n",
      " flatten_1 (Flatten)         (None, 32)                0         \n",
      "                                                                 \n",
      " dense_2 (Dense)             (None, 64)                2112      \n",
      "                                                                 \n",
      " dropout_1 (Dropout)         (None, 64)                0         \n",
      "                                                                 \n",
      " dense_3 (Dense)             (None, 2)                 130       \n",
      "                                                                 \n",
      "=================================================================\n",
      "Total params: 4,802\n",
      "Trainable params: 4,610\n",
      "Non-trainable params: 192\n",
      "_________________________________________________________________\n",
      "Epoch 1/30\n",
      "1/1 [==============================] - 1s 1s/step - loss: 0.7428 - accuracy: 0.5000 - val_loss: 3.7869 - val_accuracy: 0.5000\n",
      "Epoch 2/30\n",
      "1/1 [==============================] - 0s 47ms/step - loss: 0.6187 - accuracy: 0.5000 - val_loss: 3.0206 - val_accuracy: 0.5000\n",
      "Epoch 3/30\n",
      "1/1 [==============================] - 0s 48ms/step - loss: 0.5942 - accuracy: 0.7500 - val_loss: 2.5596 - val_accuracy: 0.5000\n",
      "Epoch 4/30\n",
      "1/1 [==============================] - 0s 42ms/step - loss: 0.7115 - accuracy: 0.5000 - val_loss: 2.2440 - val_accuracy: 0.5000\n",
      "Epoch 5/30\n",
      "1/1 [==============================] - 0s 53ms/step - loss: 0.6816 - accuracy: 0.5000 - val_loss: 2.0075 - val_accuracy: 0.5000\n",
      "Epoch 6/30\n",
      "1/1 [==============================] - 0s 48ms/step - loss: 0.8031 - accuracy: 0.5000 - val_loss: 1.8199 - val_accuracy: 0.5000\n",
      "Epoch 7/30\n",
      "1/1 [==============================] - 0s 38ms/step - loss: 0.6707 - accuracy: 0.5000 - val_loss: 1.6659 - val_accuracy: 0.5000\n",
      "Epoch 8/30\n",
      "1/1 [==============================] - 0s 50ms/step - loss: 0.6941 - accuracy: 0.5000 - val_loss: 1.5373 - val_accuracy: 0.5000\n",
      "Epoch 9/30\n",
      "1/1 [==============================] - 0s 52ms/step - loss: 0.5709 - accuracy: 0.7500 - val_loss: 1.4288 - val_accuracy: 0.5000\n",
      "Epoch 10/30\n",
      "1/1 [==============================] - 0s 47ms/step - loss: 0.5529 - accuracy: 0.7500 - val_loss: 1.3367 - val_accuracy: 0.5000\n",
      "Epoch 11/30\n",
      "1/1 [==============================] - 0s 44ms/step - loss: 0.5186 - accuracy: 0.7500 - val_loss: 1.2575 - val_accuracy: 0.5000\n",
      "Epoch 12/30\n",
      "1/1 [==============================] - 0s 50ms/step - loss: 0.6142 - accuracy: 0.5000 - val_loss: 1.1887 - val_accuracy: 0.5000\n",
      "Epoch 13/30\n",
      "1/1 [==============================] - 0s 55ms/step - loss: 0.6901 - accuracy: 0.5000 - val_loss: 1.1294 - val_accuracy: 0.5000\n",
      "Epoch 14/30\n",
      "1/1 [==============================] - ETA: 0s - loss: 0.5881 - accuracy: 0.50 - 0s 45ms/step - loss: 0.5881 - accuracy: 0.5000 - val_loss: 1.0765 - val_accuracy: 0.5000\n",
      "Epoch 15/30\n",
      "1/1 [==============================] - 0s 49ms/step - loss: 0.4944 - accuracy: 0.7500 - val_loss: 1.0304 - val_accuracy: 0.5000\n",
      "Epoch 16/30\n",
      "1/1 [==============================] - 0s 49ms/step - loss: 0.5916 - accuracy: 0.7500 - val_loss: 0.9911 - val_accuracy: 0.5000\n",
      "Epoch 17/30\n",
      "1/1 [==============================] - 0s 34ms/step - loss: 0.5342 - accuracy: 1.0000 - val_loss: 0.9571 - val_accuracy: 0.5000\n",
      "Epoch 18/30\n",
      "1/1 [==============================] - 0s 42ms/step - loss: 0.5826 - accuracy: 0.7500 - val_loss: 0.9267 - val_accuracy: 0.5000\n",
      "Epoch 19/30\n",
      "1/1 [==============================] - 0s 39ms/step - loss: 0.4441 - accuracy: 1.0000 - val_loss: 0.8997 - val_accuracy: 0.5000\n",
      "Epoch 20/30\n",
      "1/1 [==============================] - 0s 42ms/step - loss: 0.4594 - accuracy: 0.7500 - val_loss: 0.8757 - val_accuracy: 0.5000\n",
      "Epoch 21/30\n",
      "1/1 [==============================] - 0s 42ms/step - loss: 0.6745 - accuracy: 0.5000 - val_loss: 0.8539 - val_accuracy: 0.5000\n",
      "Epoch 22/30\n",
      "1/1 [==============================] - 0s 41ms/step - loss: 0.5040 - accuracy: 0.7500 - val_loss: 0.8339 - val_accuracy: 0.5000\n",
      "Epoch 23/30\n",
      "1/1 [==============================] - 0s 48ms/step - loss: 0.5054 - accuracy: 1.0000 - val_loss: 0.8162 - val_accuracy: 0.5000\n",
      "Epoch 24/30\n",
      "1/1 [==============================] - 0s 50ms/step - loss: 0.5050 - accuracy: 1.0000 - val_loss: 0.8004 - val_accuracy: 0.5000\n",
      "Epoch 25/30\n",
      "1/1 [==============================] - 0s 37ms/step - loss: 0.5089 - accuracy: 1.0000 - val_loss: 0.7863 - val_accuracy: 0.5000\n",
      "Epoch 26/30\n",
      "1/1 [==============================] - 0s 50ms/step - loss: 0.6711 - accuracy: 0.5000 - val_loss: 0.7735 - val_accuracy: 0.5000\n",
      "Epoch 27/30\n",
      "1/1 [==============================] - 0s 46ms/step - loss: 0.5321 - accuracy: 1.0000 - val_loss: 0.7620 - val_accuracy: 0.5000\n",
      "Epoch 28/30\n",
      "1/1 [==============================] - 0s 43ms/step - loss: 0.3913 - accuracy: 1.0000 - val_loss: 0.7518 - val_accuracy: 0.5000\n",
      "Epoch 29/30\n",
      "1/1 [==============================] - 0s 38ms/step - loss: 0.4569 - accuracy: 1.0000 - val_loss: 0.7426 - val_accuracy: 0.5000\n",
      "Epoch 30/30\n",
      "1/1 [==============================] - 0s 48ms/step - loss: 0.3898 - accuracy: 1.0000 - val_loss: 0.7346 - val_accuracy: 0.5000\n"
     ]
    },
    {
     "data": {
      "image/png": "[encoded data removed]",
      "text/plain": [
       "<Figure size 432x288 with 2 Axes>"
      ]
     },
     "metadata": {
      "needs_background": "light"
     },
     "output_type": "display_data"
    },
    {
     "name": "stdout",
     "output_type": "stream",
     "text": [
      "1/1 - 0s - loss: 0.7346 - accuracy: 0.5000 - 34ms/epoch - 34ms/step\n",
      "\n",
      "Test accuracy: 0.5\n",
      "Target: [1.], Predicted label: [0]\n"
     ]
    }
   ],
   "source": [
    "if __name__ == \"__main__\":\n",
    "\n",
    "    # get train, validation, test splits\n",
    "    X_train, X_validation, X_test, y_train, y_validation, y_test = prepare_datasets(0.25, 0.2)\n",
    "\n",
    "    # create network\n",
    "    input_shape = (2,7,1)\n",
    "    model = build_model(input_shape)\n",
    "   \n",
    "    # compile model\n",
    "    optimiser = keras.optimizers.Adam(learning_rate=0.0001)\n",
    "    model.compile(optimizer=optimiser,\n",
    "                  loss='sparse_categorical_crossentropy',\n",
    "                  metrics=['accuracy'])\n",
    "\n",
    "    model.summary()\n",
    "\n",
    "    # train model\n",
    "    history = model.fit(X_train, y_train, validation_data=(X_validation, y_validation), batch_size=32, epochs=30)\n",
    "\n",
    "    # plot accuracy/error for training and validation\n",
    "    plot_history(history)\n",
    "\n",
    "    # evaluate model on test set\n",
    "    test_loss, test_acc = model.evaluate(X_test, y_test, verbose=2)\n",
    "    print('\\nTest accuracy:', test_acc)\n",
    "\n",
    "    # pick a sample to predict from the test set\n",
    "    X_to_predict = X_test[1]\n",
    "    y_to_predict = y_test[1]\n",
    "\n",
    "    # predict sample\n",
    "    predict(model, X_to_predict, y_to_predict)"
   ]
  },
  {
   "cell_type": "code",
   "execution_count": null,
   "id": "9a645dc1",
   "metadata": {},
   "outputs": [],
   "source": [
    "X.shape()"
   ]
  },
  {
   "cell_type": "code",
   "execution_count": null,
   "id": "56ead580",
   "metadata": {},
   "outputs": [],
   "source": [
    "X_train[0].shape"
   ]
  },
  {
   "cell_type": "code",
   "execution_count": null,
   "id": "75c69398",
   "metadata": {},
   "outputs": [],
   "source": [
    "X_train.shape[0]"
   ]
  },
  {
   "cell_type": "code",
   "execution_count": null,
   "id": "839aa7f0",
   "metadata": {},
   "outputs": [],
   "source": [
    " y_train = y_train[..., np.newaxis]"
   ]
  },
  {
   "cell_type": "code",
   "execution_count": null,
   "id": "b821e7a3",
   "metadata": {},
   "outputs": [],
   "source": [
    "y_train.shape"
   ]
  },
  {
   "cell_type": "code",
   "execution_count": null,
   "id": "89528062",
   "metadata": {},
   "outputs": [],
   "source": []
  }
 ],
 "metadata": {
  "kernelspec": {
   "display_name": "Python 3 (ipykernel)",
   "language": "python",
   "name": "python3"
  },
  "language_info": {
   "codemirror_mode": {
    "name": "ipython",
    "version": 3
   },
   "file_extension": ".py",
   "mimetype": "text/x-python",
   "name": "python",
   "nbconvert_exporter": "python",
   "pygments_lexer": "ipython3",
   "version": "3.8.8"
  }
 },
 "nbformat": 4,
 "nbformat_minor": 5
}
